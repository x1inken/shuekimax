{
 "cells": [
  {
   "cell_type": "code",
   "execution_count": 1,
   "metadata": {},
   "outputs": [
    {
     "name": "stdout",
     "output_type": "stream",
     "text": [
      "Using matplotlib backend: Qt5Agg\n"
     ]
    }
   ],
   "source": [
    "%matplotlib"
   ]
  },
  {
   "cell_type": "code",
   "execution_count": 2,
   "metadata": {},
   "outputs": [],
   "source": [
    "import optuna\n",
    "\n",
    "import os\n",
    "import sys\n",
    "import math\n",
    "import itertools\n",
    "import numpy as np\n",
    "import pandas as pd\n",
    "from scipy.special import perm, comb\n",
    "\n",
    "from google.cloud import bigquery"
   ]
  },
  {
   "cell_type": "code",
   "execution_count": 3,
   "metadata": {},
   "outputs": [],
   "source": [
    "client = bigquery.Client()"
   ]
  },
  {
   "cell_type": "code",
   "execution_count": 4,
   "metadata": {},
   "outputs": [],
   "source": [
    "sql = \"\"\"\n",
    "select\n",
    "  race_info_id,\n",
    "  race_date,\n",
    "  place,\n",
    "  race_num,\n",
    "  umakazu\n",
    "from\n",
    "  [dataset].[table]\n",
    "where\n",
    "  race_date < date('2019-06-21')\n",
    "group by\n",
    "  race_info_id,\n",
    "  race_date,\n",
    "  place,\n",
    "  race_num,\n",
    "  umakazu\n",
    "order by\n",
    "  race_info_id\n",
    "\"\"\""
   ]
  },
  {
   "cell_type": "code",
   "execution_count": 5,
   "metadata": {},
   "outputs": [
    {
     "data": {
      "text/html": [
       "<div>\n",
       "<style scoped>\n",
       "    .dataframe tbody tr th:only-of-type {\n",
       "        vertical-align: middle;\n",
       "    }\n",
       "\n",
       "    .dataframe tbody tr th {\n",
       "        vertical-align: top;\n",
       "    }\n",
       "\n",
       "    .dataframe thead th {\n",
       "        text-align: right;\n",
       "    }\n",
       "</style>\n",
       "<table border=\"1\" class=\"dataframe\">\n",
       "  <thead>\n",
       "    <tr style=\"text-align: right;\">\n",
       "      <th></th>\n",
       "      <th>race_info_id</th>\n",
       "      <th>race_date</th>\n",
       "      <th>place</th>\n",
       "      <th>race_num</th>\n",
       "      <th>umakazu</th>\n",
       "    </tr>\n",
       "  </thead>\n",
       "  <tbody>\n",
       "    <tr>\n",
       "      <th>0</th>\n",
       "      <td>192991</td>\n",
       "      <td>2019-01-01</td>\n",
       "      <td>川崎</td>\n",
       "      <td>1</td>\n",
       "      <td>7</td>\n",
       "    </tr>\n",
       "    <tr>\n",
       "      <th>1</th>\n",
       "      <td>192992</td>\n",
       "      <td>2019-01-01</td>\n",
       "      <td>川崎</td>\n",
       "      <td>2</td>\n",
       "      <td>10</td>\n",
       "    </tr>\n",
       "    <tr>\n",
       "      <th>2</th>\n",
       "      <td>192993</td>\n",
       "      <td>2019-01-01</td>\n",
       "      <td>川崎</td>\n",
       "      <td>3</td>\n",
       "      <td>11</td>\n",
       "    </tr>\n",
       "    <tr>\n",
       "      <th>3</th>\n",
       "      <td>192994</td>\n",
       "      <td>2019-01-01</td>\n",
       "      <td>川崎</td>\n",
       "      <td>4</td>\n",
       "      <td>10</td>\n",
       "    </tr>\n",
       "    <tr>\n",
       "      <th>4</th>\n",
       "      <td>192995</td>\n",
       "      <td>2019-01-01</td>\n",
       "      <td>川崎</td>\n",
       "      <td>5</td>\n",
       "      <td>10</td>\n",
       "    </tr>\n",
       "  </tbody>\n",
       "</table>\n",
       "</div>"
      ],
      "text/plain": [
       "   race_info_id   race_date place  race_num  umakazu\n",
       "0        192991  2019-01-01    川崎         1        7\n",
       "1        192992  2019-01-01    川崎         2       10\n",
       "2        192993  2019-01-01    川崎         3       11\n",
       "3        192994  2019-01-01    川崎         4       10\n",
       "4        192995  2019-01-01    川崎         5       10"
      ]
     },
     "execution_count": 5,
     "metadata": {},
     "output_type": "execute_result"
    }
   ],
   "source": [
    "df = client.query(sql).to_dataframe()\n",
    "df.head()"
   ]
  },
  {
   "cell_type": "code",
   "execution_count": 6,
   "metadata": {},
   "outputs": [],
   "source": [
    "results = client.query(\"\"\"\n",
    "select\n",
    "  r.*  \n",
    "from (\n",
    "  select distinct race_info_id from\n",
    "    [dataset].[table_run]\n",
    "  where\n",
    "    race_date < date('2019-06-21')\n",
    ") as x\n",
    "  inner join\n",
    "    [dataset].[table_result] as r\n",
    "    on r.race_info_id = x.race_info_id\n",
    "order by\n",
    "  r.race_info_id\n",
    "\"\"\").to_dataframe()"
   ]
  },
  {
   "cell_type": "code",
   "execution_count": 7,
   "metadata": {},
   "outputs": [
    {
     "data": {
      "text/html": [
       "<div>\n",
       "<style scoped>\n",
       "    .dataframe tbody tr th:only-of-type {\n",
       "        vertical-align: middle;\n",
       "    }\n",
       "\n",
       "    .dataframe tbody tr th {\n",
       "        vertical-align: top;\n",
       "    }\n",
       "\n",
       "    .dataframe thead th {\n",
       "        text-align: right;\n",
       "    }\n",
       "</style>\n",
       "<table border=\"1\" class=\"dataframe\">\n",
       "  <thead>\n",
       "    <tr style=\"text-align: right;\">\n",
       "      <th></th>\n",
       "      <th>race_info_id</th>\n",
       "      <th>uma_id</th>\n",
       "      <th>umaban</th>\n",
       "      <th>umakazu</th>\n",
       "      <th>score</th>\n",
       "      <th>value</th>\n",
       "    </tr>\n",
       "  </thead>\n",
       "  <tbody>\n",
       "    <tr>\n",
       "      <th>0</th>\n",
       "      <td>192991</td>\n",
       "      <td>14036</td>\n",
       "      <td>2</td>\n",
       "      <td>8</td>\n",
       "      <td>0.529314</td>\n",
       "      <td>1</td>\n",
       "    </tr>\n",
       "    <tr>\n",
       "      <th>1</th>\n",
       "      <td>192991</td>\n",
       "      <td>13703</td>\n",
       "      <td>3</td>\n",
       "      <td>8</td>\n",
       "      <td>0.306875</td>\n",
       "      <td>1</td>\n",
       "    </tr>\n",
       "    <tr>\n",
       "      <th>2</th>\n",
       "      <td>192991</td>\n",
       "      <td>12891</td>\n",
       "      <td>4</td>\n",
       "      <td>8</td>\n",
       "      <td>0.569858</td>\n",
       "      <td>1</td>\n",
       "    </tr>\n",
       "    <tr>\n",
       "      <th>3</th>\n",
       "      <td>192991</td>\n",
       "      <td>13319</td>\n",
       "      <td>5</td>\n",
       "      <td>8</td>\n",
       "      <td>0.370065</td>\n",
       "      <td>1</td>\n",
       "    </tr>\n",
       "    <tr>\n",
       "      <th>4</th>\n",
       "      <td>192991</td>\n",
       "      <td>59473</td>\n",
       "      <td>6</td>\n",
       "      <td>8</td>\n",
       "      <td>0.402599</td>\n",
       "      <td>1</td>\n",
       "    </tr>\n",
       "  </tbody>\n",
       "</table>\n",
       "</div>"
      ],
      "text/plain": [
       "   race_info_id  uma_id umaban umakazu     score value\n",
       "0        192991   14036      2       8  0.529314     1\n",
       "1        192991   13703      3       8  0.306875     1\n",
       "2        192991   12891      4       8  0.569858     1\n",
       "3        192991   13319      5       8  0.370065     1\n",
       "4        192991   59473      6       8  0.402599     1"
      ]
     },
     "execution_count": 7,
     "metadata": {},
     "output_type": "execute_result"
    }
   ],
   "source": [
    "scores = client.query(\"\"\"\n",
    "select\n",
    "  x.race_info_id,\n",
    "  x.uma_id,\n",
    "  x.umaban,\n",
    "  IF (x.umakazu < y.max_umaban, y.max_umaban, x.umakazu) as umakazu,\n",
    "  r.score,\n",
    "  r.value\n",
    "from (\n",
    "  select\n",
    "      race_info_id,\n",
    "      uma_id,\n",
    "      umaban,\n",
    "      umakazu\n",
    "  from\n",
    "    [dataset].[table_run] as kr\n",
    "  where\n",
    "    race_date < date('2019-06-21')\n",
    ") as x\n",
    "  inner join (\n",
    "    select\n",
    "      cast(uma_id as INT64) as uma_id,\n",
    "      cast(race_info_id as INT64) as race_info_id,\n",
    "      avg(predicted.tables.score) as score,\n",
    "      predicted.tables.value as value\n",
    "    from\n",
    "      [predicted_dataset].predictions as p\n",
    "      CROSS JOIN UNNEST(p.predicted_is_profit) as predicted\n",
    "    where\n",
    "      predicted.tables.value = '1'\n",
    "    group by\n",
    "      p.uma_id,\n",
    "      p.race_info_id,\n",
    "      predicted.tables.value\n",
    "  ) as r\n",
    "    on r.race_info_id = x.race_info_id\n",
    "       and r.uma_id = x.uma_id\n",
    "  inner join (\n",
    "    select\n",
    "      race_info_id,\n",
    "      max(umaban) as max_umaban\n",
    "    from\n",
    "      [dataset].[table_run]\n",
    "    group by\n",
    "      race_info_id\n",
    "  ) as y\n",
    "    on y.race_info_id = x.race_info_id\n",
    "order by\n",
    "  r.race_info_id\n",
    "\"\"\").to_dataframe()\n",
    "scores.head()"
   ]
  },
  {
   "cell_type": "code",
   "execution_count": 8,
   "metadata": {},
   "outputs": [],
   "source": [
    "def umaban2waku(umakazu):\n",
    "    m = 8\n",
    "\n",
    "    a = m * 2 - umakazu\n",
    "    n = 0\n",
    "    step = 1\n",
    "    ws = {}\n",
    "    for i in range(umakazu):\n",
    "        if i >= a:\n",
    "            if step == 0:\n",
    "                step = 1\n",
    "            else:\n",
    "                n += 1\n",
    "                step = 0\n",
    "        else:\n",
    "            n += 1\n",
    "        ws[i+1] = n\n",
    "    return ws"
   ]
  },
  {
   "cell_type": "code",
   "execution_count": 9,
   "metadata": {},
   "outputs": [],
   "source": [
    "def tanpuku(score_df, select_num):\n",
    "    return [[int(x)] for x in list(score_df[:select_num].kumiban)]"
   ]
  },
  {
   "cell_type": "code",
   "execution_count": 10,
   "metadata": {},
   "outputs": [],
   "source": [
    "def uma_ren(score_df, sub, select_num, ticket_unit):\n",
    "    kumibans = list(score_df.kumiban)\n",
    "\n",
    "    pairs = []\n",
    "    if sub == 'box':\n",
    "        pairs = list(itertools.combinations(kumibans[:select_num], ticket_unit))\n",
    "    elif sub == 'flow':\n",
    "        jiku = kumibans[0]\n",
    "        pairs = [ (jiku, x) for x in kumibans[1:] ]\n",
    "    elif sub == 'form2':\n",
    "        jiku1 = kumibans[0]\n",
    "        jiku2 = kumibans[1]\n",
    "\n",
    "        pairs.append((jiku1, jiku2))\n",
    "        pairs.append((jiku1, jiku2))\n",
    "        pairs += [ (jiku1, x) for x in kumibans[2:] ]\n",
    "        pairs += [ (jiku2, x) for x in kumibans[2:] ]\n",
    "\n",
    "    pairs = [sorted(x) for x in pairs ]\n",
    "    return pairs"
   ]
  },
  {
   "cell_type": "code",
   "execution_count": 11,
   "metadata": {},
   "outputs": [],
   "source": [
    "def uma_tan(score_df, sub, select_num, ticket_unit):\n",
    "    kumibans = list(score_df.kumiban)\n",
    "\n",
    "    pairs = []\n",
    "    if sub == 'mbox':\n",
    "        pairs = list(itertools.permutations(kumibans[:select_num], ticket_unit))\n",
    "    elif sub == 'flow':\n",
    "        jiku = kumibans[0]\n",
    "        pairs = [ (jiku, x) for x in kumibans[1:] ]\n",
    "    elif sub == 'mflow':\n",
    "        jiku = kumibans[0]\n",
    "        pairs += [ (jiku, x) for x in kumibans[1:] ]\n",
    "        pairs += [ (x, jiku) for x in kumibans[1:] ]\n",
    "\n",
    "    return pairs"
   ]
  },
  {
   "cell_type": "code",
   "execution_count": 12,
   "metadata": {},
   "outputs": [],
   "source": [
    "def sanren_puku(score_df, sub, select_num, ticket_unit):\n",
    "    kumibans = list(score_df.kumiban)\n",
    "\n",
    "    pairs = []\n",
    "    if sub == 'box':\n",
    "        pairs = list(itertools.combinations(kumibans[:select_num], ticket_unit))\n",
    "    elif sub == 'flow1':\n",
    "        jiku = kumibans[0]\n",
    "        others = list(itertools.combinations(kumibans[1:select_num], 2))\n",
    "        pairs = [ (jiku, x[0], x[1]) for x in others ]\n",
    "    elif sub == 'flow2':\n",
    "        jiku1 = kumibans[0]\n",
    "        jiku2 = kumibans[1]\n",
    "        pairs += [ (jiku1, jiku2, x) for x in kumibans[2:] ]\n",
    "    elif sub == 'form21':\n",
    "        jiku1 = kumibans[0]\n",
    "        jiku2 = kumibans[1]\n",
    "        others1 = list(itertools.combinations(kumibans[1:select_num], 2))\n",
    "        others2 = list(itertools.combinations(kumibans[2:select_num], 2))\n",
    "        pairs += [ (jiku1, x[0], x[1]) for x in others1 ]\n",
    "        pairs += [ (jiku2, x[0], x[1]) for x in others2 ]\n",
    "    elif sub == 'form22':\n",
    "        jiku1 = kumibans[0]\n",
    "        jiku2 = kumibans[1]\n",
    "        jiku3 = kumibans[2]\n",
    "        pairs += [ (jiku1, jiku2, x) for x in kumibans[2:] ]\n",
    "        pairs += [ (jiku2, jiku3, x) for x in kumibans[3:] ]  # jiku1とjiku3 からの流しが無い...！\n",
    "\n",
    "    pairs = [sorted(x) for x in pairs ]\n",
    "    return pairs"
   ]
  },
  {
   "cell_type": "code",
   "execution_count": 13,
   "metadata": {},
   "outputs": [],
   "source": [
    "def sanren_tan(score_df, sub, select_num, ticket_unit):\n",
    "    kumibans = list(score_df.kumiban)\n",
    "\n",
    "    pairs = []\n",
    "    if sub == 'mbox':\n",
    "        pairs = list(itertools.permutations(kumibans[:select_num], ticket_unit))\n",
    "    elif sub == 'tflow1':\n",
    "        jiku = kumibans[0]\n",
    "        others = list(itertools.permutations(kumibans[1:select_num], 2))\n",
    "        pairs = [ (jiku, x[0], x[1]) for x in others ]\n",
    "    elif sub == 'tflow2':\n",
    "        jiku1 = kumibans[0]\n",
    "        jiku2 = kumibans[1]\n",
    "        pairs = [ (jiku1, jiku2, x) for x in kumibans[2:] ]\n",
    "    elif sub == 'mflow1':\n",
    "        jiku = kumibans[0]\n",
    "        for i in range(len(kumibans) - 2):\n",
    "            pairs += list(itertools.permutations([jiku, kumibans[i+1], kumibans[i+2]]))\n",
    "    elif sub == 'mflow2':\n",
    "        jiku1 = kumibans[0]\n",
    "        jiku2 = kumibans[1]\n",
    "        for i in range(len(kumibans) - 2):\n",
    "            pairs += list(itertools.permutations([jiku1, jiku2, kumibans[i+2]]))\n",
    "    elif sub == 'form2t1':\n",
    "        jiku1 = kumibans[0]\n",
    "        jiku2 = kumibans[1]\n",
    "        others1 = list(itertools.permutations(kumibans[1:select_num], 2))\n",
    "        others2 = list(itertools.permutations(kumibans[2:select_num], 2))\n",
    "        pairs += [ (jiku1, x[0], x[1]) for x in others1 ]\n",
    "        pairs += [ (jiku2, x[0], x[1]) for x in others2 ]\n",
    "    elif sub == 'form2t2':\n",
    "        jiku1 = kumibans[0]\n",
    "        jiku2 = kumibans[1]\n",
    "        jiku3 = kumibans[2]\n",
    "        pairs += [ (jiku1, jiku2, x) for x in kumibans[2:] ]\n",
    "        pairs += [ (jiku2, jiku3, x) for x in kumibans[3:] ]  # jiku1とjiku3 からの流しが無い...！\n",
    "\n",
    "    return pairs"
   ]
  },
  {
   "cell_type": "code",
   "execution_count": 14,
   "metadata": {},
   "outputs": [],
   "source": [
    "def buy_tickets(pairs, ratio, max_w):\n",
    "    ws = 0\n",
    "    boughts = []\n",
    "\n",
    "    for idx in range(len(pairs)):\n",
    "        if ws >= max_w:\n",
    "            break\n",
    "\n",
    "        bet = math.floor(float(max_w) * ratio[idx])\n",
    "        ws += bet\n",
    "\n",
    "        kumiban = ''\n",
    "        if len(pairs[idx]) == 2:\n",
    "            kumiban = \"{0}-{1}\".format(pairs[idx][0], pairs[idx][1])\n",
    "        elif len(pairs[idx]) == 3:\n",
    "            kumiban = \"{0}-{1}-{2}\".format(pairs[idx][0], pairs[idx][1], pairs[idx][2])\n",
    "        else:\n",
    "            kumiban = \"{0}\".format(pairs[idx][0])\n",
    "\n",
    "        boughts.append({'kumiban': kumiban, 'bet': bet})\n",
    "\n",
    "    idx = 0\n",
    "    for j in range(max_w - ws):\n",
    "        boughts[idx]['bet'] += 1\n",
    "        idx += 1\n",
    "        if idx >= len(boughts):\n",
    "            idx = 0\n",
    "\n",
    "    return boughts"
   ]
  },
  {
   "cell_type": "markdown",
   "metadata": {},
   "source": [
    "## 枠番の追加\n",
    "\n",
    "※ inken の取得したデータに枠番が入ってなかったので馬番から計算しました."
   ]
  },
  {
   "cell_type": "code",
   "execution_count": 15,
   "metadata": {},
   "outputs": [
    {
     "data": {
      "text/html": [
       "<div>\n",
       "<style scoped>\n",
       "    .dataframe tbody tr th:only-of-type {\n",
       "        vertical-align: middle;\n",
       "    }\n",
       "\n",
       "    .dataframe tbody tr th {\n",
       "        vertical-align: top;\n",
       "    }\n",
       "\n",
       "    .dataframe thead th {\n",
       "        text-align: right;\n",
       "    }\n",
       "</style>\n",
       "<table border=\"1\" class=\"dataframe\">\n",
       "  <thead>\n",
       "    <tr style=\"text-align: right;\">\n",
       "      <th></th>\n",
       "      <th>race_info_id</th>\n",
       "      <th>uma_id</th>\n",
       "      <th>umaban</th>\n",
       "      <th>umakazu</th>\n",
       "      <th>score</th>\n",
       "      <th>value</th>\n",
       "      <th>waku</th>\n",
       "    </tr>\n",
       "  </thead>\n",
       "  <tbody>\n",
       "    <tr>\n",
       "      <th>0</th>\n",
       "      <td>192991</td>\n",
       "      <td>14036</td>\n",
       "      <td>2</td>\n",
       "      <td>8</td>\n",
       "      <td>0.529314</td>\n",
       "      <td>1</td>\n",
       "      <td>2</td>\n",
       "    </tr>\n",
       "    <tr>\n",
       "      <th>1</th>\n",
       "      <td>192991</td>\n",
       "      <td>13703</td>\n",
       "      <td>3</td>\n",
       "      <td>8</td>\n",
       "      <td>0.306875</td>\n",
       "      <td>1</td>\n",
       "      <td>3</td>\n",
       "    </tr>\n",
       "    <tr>\n",
       "      <th>2</th>\n",
       "      <td>192991</td>\n",
       "      <td>12891</td>\n",
       "      <td>4</td>\n",
       "      <td>8</td>\n",
       "      <td>0.569858</td>\n",
       "      <td>1</td>\n",
       "      <td>4</td>\n",
       "    </tr>\n",
       "    <tr>\n",
       "      <th>3</th>\n",
       "      <td>192991</td>\n",
       "      <td>13319</td>\n",
       "      <td>5</td>\n",
       "      <td>8</td>\n",
       "      <td>0.370065</td>\n",
       "      <td>1</td>\n",
       "      <td>5</td>\n",
       "    </tr>\n",
       "    <tr>\n",
       "      <th>4</th>\n",
       "      <td>192991</td>\n",
       "      <td>59473</td>\n",
       "      <td>6</td>\n",
       "      <td>8</td>\n",
       "      <td>0.402599</td>\n",
       "      <td>1</td>\n",
       "      <td>6</td>\n",
       "    </tr>\n",
       "  </tbody>\n",
       "</table>\n",
       "</div>"
      ],
      "text/plain": [
       "   race_info_id  uma_id umaban umakazu     score value  waku\n",
       "0        192991   14036      2       8  0.529314     1     2\n",
       "1        192991   13703      3       8  0.306875     1     3\n",
       "2        192991   12891      4       8  0.569858     1     4\n",
       "3        192991   13319      5       8  0.370065     1     5\n",
       "4        192991   59473      6       8  0.402599     1     6"
      ]
     },
     "execution_count": 15,
     "metadata": {},
     "output_type": "execute_result"
    }
   ],
   "source": [
    "def uma2waku(umakazu, umaban):\n",
    "    d = umaban2waku(int(umakazu))\n",
    "    v = None\n",
    "    try:\n",
    "        v = d[int(umaban)]\n",
    "    except:\n",
    "        print(umakazu, umaban)\n",
    "    return d[int(umaban)]\n",
    "\n",
    "scores['waku'] = scores.apply(lambda x: uma2waku(x['umakazu'], x['umaban']), axis=1)\n",
    "scores.head()"
   ]
  },
  {
   "cell_type": "markdown",
   "metadata": {},
   "source": [
    "## 式別毎購入可能点数の計算\n",
    "\n",
    "予算範囲内で購入可能な点数を式別ごとに算出しておきます."
   ]
  },
  {
   "cell_type": "code",
   "execution_count": 16,
   "metadata": {},
   "outputs": [],
   "source": [
    "def count_marks(sub, select_num, uma_num):\n",
    "    if sub == 'none':\n",
    "        return select_num\n",
    "    elif sub == 'box':\n",
    "        return comb(select_num, uma_num, exact=True)\n",
    "    elif sub == 'mbox':   # 単裏表\n",
    "        return perm(select_num, uma_num, exact=True)\n",
    "    elif sub == 'flow':   # 馬連などの流し\n",
    "        return select_num - 1\n",
    "    elif sub == 'mflow':  # 馬単マルチ\n",
    "        return (select_num - 1) * 2\n",
    "    elif sub == 'form2':  # 2頭フォーメーション\n",
    "        return (select_num - 1) * 2 \n",
    "    elif sub == 'flow1':  # 三連複軸1頭\n",
    "        return comb(select_num - 1, 2, exact=True)\n",
    "    elif sub == 'flow2':  # 三連複軸2頭\n",
    "        return select_num - 2\n",
    "    elif sub == 'form21':  # 三連複軸1頭-2頭フォーメーション\n",
    "        return comb(select_num - 1, 2, exact=True) + comb(select_num - 2, 2, exact=True)\n",
    "    elif sub == 'form22':  # 三連複軸2頭-2頭フォーメーション\n",
    "        return (select_num - 2) + (select_num - 3)\n",
    "    elif sub == 'tflow1':  # 三連単軸1頭固定\n",
    "        return perm(select_num - 1, 2, exact=True)\n",
    "    elif sub == 'tflow2':  # 三連単軸2頭固定\n",
    "        return select_num - 2\n",
    "    elif sub == 'mflow1':  # 三連単軸1頭マルチ\n",
    "        return perm(select_num - 1, 2, exact=True) * 3\n",
    "    elif sub == 'mflow2':  # 三連単軸2頭マルチ\n",
    "        return (select_num - 2) * 6\n",
    "    elif sub == 'form2t1': # 三連単軸1頭-2頭フォーメーション\n",
    "        return perm(select_num - 1, 2, exact=True) + perm(select_num - 2, 2, exact=True)\n",
    "    elif sub == 'form2t2':  # 三連単軸2頭-2頭フォーメーション\n",
    "        return (select_num - 2) + (select_num - 3)"
   ]
  },
  {
   "cell_type": "code",
   "execution_count": 17,
   "metadata": {},
   "outputs": [],
   "source": [
    "def search_threshold(sub, max_w, s, m):\n",
    "    res = s\n",
    "    for n in range(s, m + 1):\n",
    "        mx = count_marks(sub, n, s)\n",
    "        if mx > max_w:\n",
    "            break\n",
    "        res = n\n",
    "    return res"
   ]
  },
  {
   "cell_type": "code",
   "execution_count": 18,
   "metadata": {},
   "outputs": [],
   "source": [
    "MAX_PAYMENT = 2100  # 1レース当たりの購入上限を¥2,100 としています\n",
    "MAX_UMAKAZU = 16\n",
    "MAX_WAKUKAZU = 8\n",
    "unit = 100    # 購入券の最小金額\n",
    "max_w = int(MAX_PAYMENT / unit)\n",
    "\n",
    "## 設定した金額で買える最大組数を探します\n",
    "s_config = {}\n",
    "\n",
    "\n",
    "# 単勝, 複勝\n",
    "s_config['none'] = {\n",
    "    '単勝': { 'low': 1, 'high': min([MAX_UMAKAZU, max_w]) },\n",
    "    '複勝': { 'low': 1, 'high': min([MAX_UMAKAZU, max_w]) },\n",
    "}\n",
    "\n",
    "#------------------------------------------------------\n",
    "# box\n",
    "sub = 'box'\n",
    "uma_num = 2\n",
    "\n",
    "mx = search_threshold(sub, max_w, uma_num, MAX_UMAKAZU)\n",
    "s_config[sub] = {\n",
    "    '普通馬複': { 'low': uma_num, 'high': mx },\n",
    "    'ワイド': { 'low': uma_num, 'high': mx },    \n",
    "    '枠複': { 'low': uma_num, 'high': search_threshold(sub, max_w, uma_num, MAX_WAKUKAZU) },\n",
    "    '三連複': { 'low': 3, 'high': search_threshold(sub, max_w, 3, MAX_UMAKAZU) },\n",
    "}\n",
    "\n",
    "#------------------------------------------------------\n",
    "# mbox 単裏表\n",
    "sub = 'mbox'\n",
    "uma_num = 2\n",
    "\n",
    "s_config[sub] = {\n",
    "    '馬単': { 'low': uma_num, 'high': search_threshold(sub, max_w, uma_num, MAX_UMAKAZU) },\n",
    "    '枠単': { 'low': uma_num, 'high': search_threshold(sub, max_w, uma_num, MAX_WAKUKAZU) },\n",
    "    '三連単': { 'low': 3, 'high': search_threshold(sub, max_w, 3, MAX_UMAKAZU) },\n",
    "}\n",
    "\n",
    "#------------------------------------------------------\n",
    "# flow 流し\n",
    "sub = 'flow'\n",
    "uma_num = 2\n",
    "\n",
    "mx = min([search_threshold(sub, max_w, uma_num, MAX_UMAKAZU), MAX_UMAKAZU])\n",
    "mxw = min([search_threshold(sub, max_w, uma_num, MAX_WAKUKAZU), MAX_WAKUKAZU])\n",
    "s_config[sub] = {\n",
    "    '普通馬複': { 'low': uma_num, 'high': mx },\n",
    "    'ワイド': { 'low': uma_num, 'high': mx },\n",
    "    '馬単': { 'low': uma_num, 'high': mx },\n",
    "    '枠複': { 'low': uma_num, 'high': mxw },\n",
    "    '枠単': { 'low': uma_num, 'high': mxw },\n",
    "}\n",
    "\n",
    "#------------------------------------------------------\n",
    "# mflow 馬単マルチ\n",
    "sub = 'mflow'\n",
    "uma_num = 2\n",
    "\n",
    "s_config[sub] = {\n",
    "    '枠単': { 'low': uma_num, 'high': min([search_threshold(sub, max_w, uma_num, MAX_WAKUKAZU), MAX_WAKUKAZU]) },\n",
    "    '馬単': { 'low': uma_num, 'high': min([search_threshold(sub, max_w, uma_num, MAX_UMAKAZU), MAX_UMAKAZU]) },\n",
    "}\n",
    "\n",
    "#------------------------------------------------------\n",
    "# form2 フォーメーション\n",
    "sub = 'form2'\n",
    "uma_num = 2\n",
    "\n",
    "mx = min([search_threshold(sub, max_w, uma_num, MAX_UMAKAZU), MAX_UMAKAZU])\n",
    "mxw = min([search_threshold(sub, max_w, uma_num, MAX_WAKUKAZU), MAX_WAKUKAZU])\n",
    "s_config[sub] = {\n",
    "    '普通馬複': { 'low': 4, 'high': mx },\n",
    "    'ワイド': { 'low': 4, 'high': mx },\n",
    "    '枠複': { 'low': 4, 'high': mxw },\n",
    "}\n",
    "\n",
    "\n",
    "#------------------------------------------------------\n",
    "# 三連複 flow1, flow2\n",
    "uma_num = 3\n",
    "\n",
    "sub = 'flow1'  # 三連複軸1頭\n",
    "s_config[sub] = {\n",
    "    '三連複': { 'low': uma_num, 'high': min([search_threshold(sub, max_w, uma_num, MAX_UMAKAZU), MAX_UMAKAZU]) },\n",
    "}\n",
    "sub = 'flow2'  # 三連複軸2頭\n",
    "s_config[sub] = {\n",
    "    '三連複': { 'low': uma_num, 'high': min([search_threshold(sub, max_w, uma_num, MAX_UMAKAZU), MAX_UMAKAZU]) },    \n",
    "}\n",
    "\n",
    "#------------------------------------------------------\n",
    "# form21, form22 三連複フォーメーション\n",
    "uma_num = 3\n",
    "\n",
    "sub = 'form21'\n",
    "s_config[sub] = {\n",
    "    '三連複': { 'low': 4, 'high': min([search_threshold(sub, max_w, uma_num, MAX_UMAKAZU), MAX_UMAKAZU]) },\n",
    "}\n",
    "\n",
    "sub = 'form22'\n",
    "s_config[sub] = {\n",
    "    '三連複': { 'low': 4, 'high': min([search_threshold(sub, max_w, uma_num, MAX_UMAKAZU), MAX_UMAKAZU]) },\n",
    "}\n",
    "\n",
    "#------------------------------------------------------\n",
    "# 三連単 tflow1, tflow2, mflow1, mflow2\n",
    "uma_num = 3\n",
    "\n",
    "sub = 'tflow1'  # 三連単軸1頭固定\n",
    "s_config[sub] = {\n",
    "    '三連単': { 'low': uma_num, 'high': min([search_threshold(sub, max_w, uma_num, MAX_UMAKAZU), MAX_UMAKAZU]) },\n",
    "}\n",
    "sub = 'tflow2'  # 三連単軸2頭固定\n",
    "s_config[sub] = {\n",
    "    '三連単': { 'low': uma_num, 'high': min([search_threshold(sub, max_w, uma_num, MAX_UMAKAZU), MAX_UMAKAZU]) },\n",
    "}\n",
    "sub = 'mflow1'  # 三連単軸1頭マルチ\n",
    "s_config[sub] = {\n",
    "    '三連単': { 'low': uma_num, 'high': min([search_threshold(sub, max_w, uma_num, MAX_UMAKAZU), MAX_UMAKAZU]) },\n",
    "}\n",
    "sub = 'mflow2'  # 三連単軸2頭マルチ\n",
    "s_config[sub] = {\n",
    "    '三連単': { 'low': uma_num, 'high': min([search_threshold(sub, max_w, uma_num, MAX_UMAKAZU), MAX_UMAKAZU]) },\n",
    "}\n",
    "\n",
    "#------------------------------------------------------\n",
    "# form2t1, form2t2 三連単フォーメーション\n",
    "uma_num = 3\n",
    "\n",
    "sub = 'form2t1'\n",
    "s_config[sub] = {\n",
    "    '三連単': { 'low': 4, 'high': min([search_threshold(sub, max_w, uma_num, MAX_UMAKAZU), MAX_UMAKAZU]) },\n",
    "}\n",
    "\n",
    "sub = 'form2t2'\n",
    "s_config[sub] = {\n",
    "    '三連単': { 'low': 4, 'high': min([search_threshold(sub, max_w, uma_num, MAX_UMAKAZU), MAX_UMAKAZU]) },\n",
    "}\n"
   ]
  },
  {
   "cell_type": "code",
   "execution_count": 19,
   "metadata": {},
   "outputs": [
    {
     "data": {
      "text/plain": [
       "{'単勝': {'none': {'low': 1, 'high': 16}},\n",
       " '複勝': {'none': {'low': 1, 'high': 16}},\n",
       " '普通馬複': {'box': {'low': 2, 'high': 7},\n",
       "  'flow': {'low': 2, 'high': 16},\n",
       "  'form2': {'low': 4, 'high': 11}},\n",
       " 'ワイド': {'box': {'low': 2, 'high': 7},\n",
       "  'flow': {'low': 2, 'high': 16},\n",
       "  'form2': {'low': 4, 'high': 11}},\n",
       " '枠複': {'box': {'low': 2, 'high': 7},\n",
       "  'flow': {'low': 2, 'high': 8},\n",
       "  'form2': {'low': 4, 'high': 8}},\n",
       " '三連複': {'box': {'low': 3, 'high': 6},\n",
       "  'flow1': {'low': 3, 'high': 8},\n",
       "  'flow2': {'low': 3, 'high': 16},\n",
       "  'form21': {'low': 4, 'high': 6},\n",
       "  'form22': {'low': 4, 'high': 13}},\n",
       " '馬単': {'mbox': {'low': 2, 'high': 5},\n",
       "  'flow': {'low': 2, 'high': 16},\n",
       "  'mflow': {'low': 2, 'high': 11}},\n",
       " '枠単': {'mbox': {'low': 2, 'high': 5},\n",
       "  'flow': {'low': 2, 'high': 8},\n",
       "  'mflow': {'low': 2, 'high': 8}},\n",
       " '三連単': {'mbox': {'low': 3, 'high': 3},\n",
       "  'tflow1': {'low': 3, 'high': 6},\n",
       "  'tflow2': {'low': 3, 'high': 16},\n",
       "  'mflow1': {'low': 3, 'high': 4},\n",
       "  'mflow2': {'low': 3, 'high': 5},\n",
       "  'form2t1': {'low': 4, 'high': 5},\n",
       "  'form2t2': {'low': 4, 'high': 13}}}"
      ]
     },
     "execution_count": 19,
     "metadata": {},
     "output_type": "execute_result"
    }
   ],
   "source": [
    "types = {}\n",
    "for k, v in s_config.items():\n",
    "    for shiki, m in v.items():\n",
    "        if shiki not in types:\n",
    "            types[shiki] = {k: m}\n",
    "        else:\n",
    "            types[shiki][k] = m\n",
    "types"
   ]
  },
  {
   "cell_type": "code",
   "execution_count": 74,
   "metadata": {},
   "outputs": [
    {
     "data": {
      "text/html": [
       "<div>\n",
       "<style scoped>\n",
       "    .dataframe tbody tr th:only-of-type {\n",
       "        vertical-align: middle;\n",
       "    }\n",
       "\n",
       "    .dataframe tbody tr th {\n",
       "        vertical-align: top;\n",
       "    }\n",
       "\n",
       "    .dataframe thead th {\n",
       "        text-align: right;\n",
       "    }\n",
       "</style>\n",
       "<table border=\"1\" class=\"dataframe\">\n",
       "  <thead>\n",
       "    <tr style=\"text-align: right;\">\n",
       "      <th></th>\n",
       "      <th>race_info_id</th>\n",
       "      <th>race_date</th>\n",
       "      <th>place</th>\n",
       "      <th>race_num</th>\n",
       "      <th>umakazu</th>\n",
       "    </tr>\n",
       "  </thead>\n",
       "  <tbody>\n",
       "    <tr>\n",
       "      <th>155</th>\n",
       "      <td>193733</td>\n",
       "      <td>2019-01-21</td>\n",
       "      <td>大井</td>\n",
       "      <td>3</td>\n",
       "      <td>16</td>\n",
       "    </tr>\n",
       "    <tr>\n",
       "      <th>159</th>\n",
       "      <td>193737</td>\n",
       "      <td>2019-01-21</td>\n",
       "      <td>大井</td>\n",
       "      <td>7</td>\n",
       "      <td>16</td>\n",
       "    </tr>\n",
       "    <tr>\n",
       "      <th>160</th>\n",
       "      <td>193738</td>\n",
       "      <td>2019-01-21</td>\n",
       "      <td>大井</td>\n",
       "      <td>8</td>\n",
       "      <td>16</td>\n",
       "    </tr>\n",
       "    <tr>\n",
       "      <th>164</th>\n",
       "      <td>193742</td>\n",
       "      <td>2019-01-21</td>\n",
       "      <td>大井</td>\n",
       "      <td>12</td>\n",
       "      <td>16</td>\n",
       "    </tr>\n",
       "    <tr>\n",
       "      <th>166</th>\n",
       "      <td>193765</td>\n",
       "      <td>2019-01-22</td>\n",
       "      <td>大井</td>\n",
       "      <td>2</td>\n",
       "      <td>16</td>\n",
       "    </tr>\n",
       "  </tbody>\n",
       "</table>\n",
       "</div>"
      ],
      "text/plain": [
       "     race_info_id   race_date place  race_num  umakazu\n",
       "155        193733  2019-01-21    大井         3       16\n",
       "159        193737  2019-01-21    大井         7       16\n",
       "160        193738  2019-01-21    大井         8       16\n",
       "164        193742  2019-01-21    大井        12       16\n",
       "166        193765  2019-01-22    大井         2       16"
      ]
     },
     "execution_count": 74,
     "metadata": {},
     "output_type": "execute_result"
    }
   ],
   "source": [
    "UMAKAZU = 16  # 5〜16\n",
    "\n",
    "targets = df[df['umakazu'] == UMAKAZU]\n",
    "targets.head()"
   ]
  },
  {
   "cell_type": "code",
   "execution_count": 75,
   "metadata": {},
   "outputs": [
    {
     "name": "stdout",
     "output_type": "stream",
     "text": [
      "種類数 29\n"
     ]
    },
    {
     "data": {
      "text/plain": [
       "['単勝-none',\n",
       " '複勝-none',\n",
       " '普通馬複-box',\n",
       " '普通馬複-flow',\n",
       " '普通馬複-form2',\n",
       " 'ワイド-box',\n",
       " 'ワイド-flow',\n",
       " 'ワイド-form2',\n",
       " '枠複-box',\n",
       " '枠複-flow',\n",
       " '枠複-form2',\n",
       " '三連複-box',\n",
       " '三連複-flow1',\n",
       " '三連複-flow2',\n",
       " '三連複-form21',\n",
       " '三連複-form22',\n",
       " '馬単-mbox',\n",
       " '馬単-flow',\n",
       " '馬単-mflow',\n",
       " '枠単-mbox',\n",
       " '枠単-flow',\n",
       " '枠単-mflow',\n",
       " '三連単-mbox',\n",
       " '三連単-tflow1',\n",
       " '三連単-tflow2',\n",
       " '三連単-mflow1',\n",
       " '三連単-mflow2',\n",
       " '三連単-form2t1',\n",
       " '三連単-form2t2']"
      ]
     },
     "execution_count": 75,
     "metadata": {},
     "output_type": "execute_result"
    }
   ],
   "source": [
    "if UMAKAZU > 8:\n",
    "    result_types = ['単勝', '複勝', '枠複', '枠単', '普通馬複', '馬単', 'ワイド', '三連複', '三連単']\n",
    "else:\n",
    "    result_types = ['単勝', '複勝', '普通馬複', '馬単', 'ワイド', '三連複', '三連単']\n",
    "\n",
    "shiki_list = []\n",
    "for k, v in types.items():\n",
    "    for s in v.keys():\n",
    "        shiki_list.append(\"{0}-{1}\".format(k, s))\n",
    "print(\"種類数\", len(shiki_list))\n",
    "shiki_list"
   ]
  },
  {
   "cell_type": "code",
   "execution_count": 76,
   "metadata": {},
   "outputs": [],
   "source": [
    "def objective(trial):\n",
    "\n",
    "    targets = df[df['umakazu'] == UMAKAZU]\n",
    "\n",
    "    # shiki: 式別 '単勝', '複勝', '枠複', '枠単', '普通馬複', '馬単', 'ワイド', '三連複', '三連単'\n",
    "    shiki_sub = trial.suggest_categorical('shiki', shiki_list)\n",
    "\n",
    "    # pattern: BOX, 流し, マルチなど\n",
    "#     sub = trial.suggest_categorical('sub', list(types[shiki].keys()))  # カテゴリー値は動的変数にできなかった(´・ω・｀)ｼｮﾎﾞｰﾝ\n",
    "    shiki, sub = shiki_sub.split('-')\n",
    "\n",
    "\n",
    "    # ticket_unit: 式別の単位数\n",
    "    if shiki in ['単勝', '複勝']:\n",
    "        ticket_unit = 1\n",
    "    elif shiki in ['三連複', '三連単']:\n",
    "        ticket_unit = 3\n",
    "    else:\n",
    "        ticket_unit = 2\n",
    "\n",
    "\n",
    "    # pattern: 均等買い or 重み買い\n",
    "    if sub in ['none', 'flow', 'flow2', 'tflow2']:\n",
    "        pattern = trial.suggest_categorical('pattern', ['eq', 'order_s', 'order_o'])\n",
    "    else:\n",
    "        pattern = 'eq'\n",
    "\n",
    "\n",
    "    # select_num: 選択馬数\n",
    "    select_num = trial.suggest_int('select_num', types[shiki][sub]['low'], min([types[shiki][sub]['high'], UMAKAZU]))\n",
    "\n",
    "\n",
    "    print(shiki, sub, select_num, pattern, trial.number)\n",
    "\n",
    "    # この値を最大化します\n",
    "    profit = 0\n",
    "\n",
    "    for i in list(targets['race_info_id']):\n",
    "        ss = pd.DataFrame(scores[scores['race_info_id'] == i].sort_values('score', ascending=False))\n",
    "\n",
    "        if shiki in ['枠複', '枠単']:\n",
    "            ss['kumiban'] = ss['waku']\n",
    "        else:\n",
    "            ss['kumiban'] = ss['umaban']\n",
    "\n",
    "        start_index = 0\n",
    "        if sub in ['flow2', 'tflow2']:\n",
    "            start_index = 2\n",
    "        elif sub in ['flow']:\n",
    "            start_index = 1\n",
    "\n",
    "        rdf = pd.DataFrame(ss)\n",
    "        rdf = rdf[start_index:select_num]\n",
    "        rdf = rdf.reset_index()\n",
    "\n",
    "        marks = count_marks(sub, select_num, ticket_unit)\n",
    "        if pattern == 'eq':\n",
    "            ratio = [ (1.0/float(marks)) for _ in range(marks)]\n",
    "        elif pattern == 'order_s':\n",
    "            ratio = list(rdf.loc[:, ['score']].apply(lambda x:x/sum(x))['score'])\n",
    "        elif pattern == 'order_o':\n",
    "            rdf['order'] = rdf.index * -1 + select_num\n",
    "            ratio = list(rdf.loc[:, ['order']].apply(lambda x:x/sum(x))['order'])\n",
    "\n",
    "        ss = ss[:select_num]\n",
    "        ss = ss.reset_index()\n",
    "\n",
    "\n",
    "        pairs = []\n",
    "        if shiki == '単勝' or shiki == '複勝':\n",
    "            pairs = tanpuku(ss, select_num)\n",
    "        elif shiki == '普通馬複' or shiki == 'ワイド' or shiki == '枠複':\n",
    "            pairs = uma_ren(ss, sub, select_num, ticket_unit)\n",
    "        elif shiki == '馬単' or shiki == '枠単':\n",
    "            pairs = uma_tan(ss, sub, select_num, ticket_unit)\n",
    "        elif shiki == '三連複':\n",
    "            pairs = sanren_puku(ss, sub, select_num, ticket_unit)\n",
    "        elif shiki == '三連単':\n",
    "            pairs = sanren_tan(ss, sub, select_num, ticket_unit)\n",
    "\n",
    "\n",
    "        boughts = buy_tickets(pairs, ratio, max_w)\n",
    "\n",
    "\n",
    "#         print(boughts)\n",
    "\n",
    "        # 答え合わせ\n",
    "        for b in boughts:\n",
    "            res = results[(results['race_info_id'] == i) & (results['result_type'] == shiki) & (results['kumiban'] == b['kumiban'])]\n",
    "            loss = int(list(res.price)[0]) if len(res) > 0 else 0.0\n",
    "#             print(((loss - unit) * b['bet']), b['bet'], (loss - unit))\n",
    "            profit = profit + ((loss - unit) * b['bet'])\n",
    "\n",
    "    print(\"profit\", profit)\n",
    "    return -1.0 * profit"
   ]
  },
  {
   "cell_type": "code",
   "execution_count": 77,
   "metadata": {},
   "outputs": [
    {
     "name": "stdout",
     "output_type": "stream",
     "text": [
      "枠複 form2 5 eq 0\n",
      "profit -80430.0\n"
     ]
    },
    {
     "name": "stderr",
     "output_type": "stream",
     "text": [
      "[I 2019-06-27 16:07:25,064] Finished trial#0 resulted in value: 80430.0. Current best value is 80430.0 with parameters: {'shiki': '枠複-form2', 'select_num': 5}.\n"
     ]
    },
    {
     "name": "stdout",
     "output_type": "stream",
     "text": [
      "単勝 none 13 eq 1\n",
      "profit -87630.0\n"
     ]
    },
    {
     "name": "stderr",
     "output_type": "stream",
     "text": [
      "[I 2019-06-27 16:07:37,284] Finished trial#1 resulted in value: 87630.0. Current best value is 80430.0 with parameters: {'shiki': '枠複-form2', 'select_num': 5}.\n"
     ]
    },
    {
     "name": "stdout",
     "output_type": "stream",
     "text": [
      "三連単 mflow2 5 eq 2\n",
      "profit -90900.0\n"
     ]
    },
    {
     "name": "stderr",
     "output_type": "stream",
     "text": [
      "[I 2019-06-27 16:07:53,556] Finished trial#2 resulted in value: 90900.0. Current best value is 80430.0 with parameters: {'shiki': '枠複-form2', 'select_num': 5}.\n"
     ]
    },
    {
     "name": "stdout",
     "output_type": "stream",
     "text": [
      "三連単 form2t1 5 eq 3\n",
      "profit -98750.0\n"
     ]
    },
    {
     "name": "stderr",
     "output_type": "stream",
     "text": [
      "[I 2019-06-27 16:08:10,139] Finished trial#3 resulted in value: 98750.0. Current best value is 80430.0 with parameters: {'shiki': '枠複-form2', 'select_num': 5}.\n"
     ]
    },
    {
     "name": "stdout",
     "output_type": "stream",
     "text": [
      "三連単 tflow1 4 eq 4\n",
      "profit -150870.0\n"
     ]
    },
    {
     "name": "stderr",
     "output_type": "stream",
     "text": [
      "[I 2019-06-27 16:08:16,209] Finished trial#4 resulted in value: 150870.0. Current best value is 80430.0 with parameters: {'shiki': '枠複-form2', 'select_num': 5}.\n"
     ]
    },
    {
     "name": "stdout",
     "output_type": "stream",
     "text": [
      "馬単 mbox 2 eq 5\n",
      "profit -7110.0\n"
     ]
    },
    {
     "name": "stderr",
     "output_type": "stream",
     "text": [
      "[I 2019-06-27 16:08:18,710] Finished trial#5 resulted in value: 7110.0. Current best value is 7110.0 with parameters: {'shiki': '馬単-mbox', 'select_num': 2}.\n"
     ]
    },
    {
     "name": "stdout",
     "output_type": "stream",
     "text": [
      "普通馬複 form2 9 eq 6\n",
      "profit -103670.0\n"
     ]
    },
    {
     "name": "stderr",
     "output_type": "stream",
     "text": [
      "[I 2019-06-27 16:08:32,975] Finished trial#6 resulted in value: 103670.0. Current best value is 7110.0 with parameters: {'shiki': '馬単-mbox', 'select_num': 2}.\n"
     ]
    },
    {
     "name": "stdout",
     "output_type": "stream",
     "text": [
      "枠単 mflow 3 eq 7\n",
      "profit -42850.0\n"
     ]
    },
    {
     "name": "stderr",
     "output_type": "stream",
     "text": [
      "[I 2019-06-27 16:08:37,166] Finished trial#7 resulted in value: 42850.0. Current best value is 7110.0 with parameters: {'shiki': '馬単-mbox', 'select_num': 2}.\n"
     ]
    },
    {
     "name": "stdout",
     "output_type": "stream",
     "text": [
      "枠複 box 7 eq 8\n",
      "profit -119300.0\n"
     ]
    },
    {
     "name": "stderr",
     "output_type": "stream",
     "text": [
      "[I 2019-06-27 16:08:55,892] Finished trial#8 resulted in value: 119300.0. Current best value is 7110.0 with parameters: {'shiki': '馬単-mbox', 'select_num': 2}.\n"
     ]
    },
    {
     "name": "stdout",
     "output_type": "stream",
     "text": [
      "普通馬複 flow 8 eq 9\n",
      "profit -52140.0\n"
     ]
    },
    {
     "name": "stderr",
     "output_type": "stream",
     "text": [
      "[I 2019-06-27 16:09:02,415] Finished trial#9 resulted in value: 52140.0. Current best value is 7110.0 with parameters: {'shiki': '馬単-mbox', 'select_num': 2}.\n"
     ]
    },
    {
     "name": "stdout",
     "output_type": "stream",
     "text": [
      "馬単 mbox 2 eq 10\n",
      "profit -7110.0\n"
     ]
    },
    {
     "name": "stderr",
     "output_type": "stream",
     "text": [
      "[I 2019-06-27 16:09:04,915] Finished trial#10 resulted in value: 7110.0. Current best value is 7110.0 with parameters: {'shiki': '馬単-mbox', 'select_num': 2}.\n"
     ]
    },
    {
     "name": "stdout",
     "output_type": "stream",
     "text": [
      "馬単 flow 16 eq 11\n",
      "profit -62750.0\n"
     ]
    },
    {
     "name": "stderr",
     "output_type": "stream",
     "text": [
      "[I 2019-06-27 16:09:18,115] Finished trial#11 resulted in value: 62750.0. Current best value is 7110.0 with parameters: {'shiki': '馬単-mbox', 'select_num': 2}.\n"
     ]
    },
    {
     "name": "stdout",
     "output_type": "stream",
     "text": [
      "ワイド box 2 eq 12\n",
      "profit -51240.0\n"
     ]
    },
    {
     "name": "stderr",
     "output_type": "stream",
     "text": [
      "[I 2019-06-27 16:09:19,847] Finished trial#12 resulted in value: 51240.0. Current best value is 7110.0 with parameters: {'shiki': '馬単-mbox', 'select_num': 2}.\n"
     ]
    },
    {
     "name": "stdout",
     "output_type": "stream",
     "text": [
      "三連単 mflow1 3 eq 13\n",
      "profit -103560.0\n"
     ]
    },
    {
     "name": "stderr",
     "output_type": "stream",
     "text": [
      "[I 2019-06-27 16:09:25,842] Finished trial#13 resulted in value: 103560.0. Current best value is 7110.0 with parameters: {'shiki': '馬単-mbox', 'select_num': 2}.\n"
     ]
    },
    {
     "name": "stdout",
     "output_type": "stream",
     "text": [
      "ワイド form2 11 eq 14\n",
      "profit -82750.0\n"
     ]
    },
    {
     "name": "stderr",
     "output_type": "stream",
     "text": [
      "[I 2019-06-27 16:09:43,803] Finished trial#14 resulted in value: 82750.0. Current best value is 7110.0 with parameters: {'shiki': '馬単-mbox', 'select_num': 2}.\n"
     ]
    },
    {
     "name": "stdout",
     "output_type": "stream",
     "text": [
      "三連単 tflow2 15 order_o 15\n",
      "profit 54550.0\n"
     ]
    },
    {
     "name": "stderr",
     "output_type": "stream",
     "text": [
      "[I 2019-06-27 16:09:56,273] Finished trial#15 resulted in value: -54550.0. Current best value is -54550.0 with parameters: {'shiki': '三連単-tflow2', 'pattern': 'order_o', 'select_num': 15}.\n"
     ]
    },
    {
     "name": "stdout",
     "output_type": "stream",
     "text": [
      "三連単 tflow2 16 order_s 16\n",
      "profit 57030.0\n"
     ]
    },
    {
     "name": "stderr",
     "output_type": "stream",
     "text": [
      "[I 2019-06-27 16:10:10,190] Finished trial#16 resulted in value: -57030.0. Current best value is -57030.0 with parameters: {'shiki': '三連単-tflow2', 'pattern': 'order_s', 'select_num': 16}.\n"
     ]
    },
    {
     "name": "stdout",
     "output_type": "stream",
     "text": [
      "三連単 tflow2 16 order_o 17\n",
      "profit 54550.0\n"
     ]
    },
    {
     "name": "stderr",
     "output_type": "stream",
     "text": [
      "[I 2019-06-27 16:10:23,123] Finished trial#17 resulted in value: -54550.0. Current best value is -57030.0 with parameters: {'shiki': '三連単-tflow2', 'pattern': 'order_s', 'select_num': 16}.\n"
     ]
    },
    {
     "name": "stdout",
     "output_type": "stream",
     "text": [
      "三連単 tflow2 14 eq 18\n",
      "profit 15620.0\n"
     ]
    },
    {
     "name": "stderr",
     "output_type": "stream",
     "text": [
      "[I 2019-06-27 16:10:34,210] Finished trial#18 resulted in value: -15620.0. Current best value is -57030.0 with parameters: {'shiki': '三連単-tflow2', 'pattern': 'order_s', 'select_num': 16}.\n"
     ]
    },
    {
     "name": "stdout",
     "output_type": "stream",
     "text": [
      "枠複 flow 7 order_s 19\n",
      "profit -58310.0\n"
     ]
    },
    {
     "name": "stderr",
     "output_type": "stream",
     "text": [
      "[I 2019-06-27 16:10:40,677] Finished trial#19 resulted in value: 58310.0. Current best value is -57030.0 with parameters: {'shiki': '三連単-tflow2', 'pattern': 'order_s', 'select_num': 16}.\n"
     ]
    },
    {
     "name": "stdout",
     "output_type": "stream",
     "text": [
      "三連単 form2t2 12 eq 20\n",
      "profit -68600.0\n"
     ]
    },
    {
     "name": "stderr",
     "output_type": "stream",
     "text": [
      "[I 2019-06-27 16:10:57,628] Finished trial#20 resulted in value: 68600.0. Current best value is -57030.0 with parameters: {'shiki': '三連単-tflow2', 'pattern': 'order_s', 'select_num': 16}.\n"
     ]
    },
    {
     "name": "stdout",
     "output_type": "stream",
     "text": [
      "三連複 box 6 eq 21\n",
      "profit -116250.0\n"
     ]
    },
    {
     "name": "stderr",
     "output_type": "stream",
     "text": [
      "[I 2019-06-27 16:11:15,558] Finished trial#21 resulted in value: 116250.0. Current best value is -57030.0 with parameters: {'shiki': '三連単-tflow2', 'pattern': 'order_s', 'select_num': 16}.\n"
     ]
    },
    {
     "name": "stdout",
     "output_type": "stream",
     "text": [
      "枠単 flow 8 order_o 22\n",
      "profit -53830.0\n"
     ]
    },
    {
     "name": "stderr",
     "output_type": "stream",
     "text": [
      "[I 2019-06-27 16:11:22,778] Finished trial#22 resulted in value: 53830.0. Current best value is -57030.0 with parameters: {'shiki': '三連単-tflow2', 'pattern': 'order_s', 'select_num': 16}.\n"
     ]
    },
    {
     "name": "stdout",
     "output_type": "stream",
     "text": [
      "三連複 flow2 16 order_s 23\n",
      "profit -43990.0\n"
     ]
    },
    {
     "name": "stderr",
     "output_type": "stream",
     "text": [
      "[I 2019-06-27 16:11:35,823] Finished trial#23 resulted in value: 43990.0. Current best value is -57030.0 with parameters: {'shiki': '三連単-tflow2', 'pattern': 'order_s', 'select_num': 16}.\n"
     ]
    },
    {
     "name": "stdout",
     "output_type": "stream",
     "text": [
      "普通馬複 box 4 eq 24\n",
      "profit -105510.0\n"
     ]
    },
    {
     "name": "stderr",
     "output_type": "stream",
     "text": [
      "[I 2019-06-27 16:11:41,740] Finished trial#24 resulted in value: 105510.0. Current best value is -57030.0 with parameters: {'shiki': '三連単-tflow2', 'pattern': 'order_s', 'select_num': 16}.\n"
     ]
    },
    {
     "name": "stdout",
     "output_type": "stream",
     "text": [
      "三連複 flow1 8 eq 25\n",
      "profit -84790.0\n"
     ]
    },
    {
     "name": "stderr",
     "output_type": "stream",
     "text": [
      "[I 2019-06-27 16:12:01,799] Finished trial#25 resulted in value: 84790.0. Current best value is -57030.0 with parameters: {'shiki': '三連単-tflow2', 'pattern': 'order_s', 'select_num': 16}.\n"
     ]
    },
    {
     "name": "stdout",
     "output_type": "stream",
     "text": [
      "複勝 none 10 order_s 26\n",
      "profit -61910.0\n"
     ]
    },
    {
     "name": "stderr",
     "output_type": "stream",
     "text": [
      "[I 2019-06-27 16:12:11,997] Finished trial#26 resulted in value: 61910.0. Current best value is -57030.0 with parameters: {'shiki': '三連単-tflow2', 'pattern': 'order_s', 'select_num': 16}.\n"
     ]
    },
    {
     "name": "stdout",
     "output_type": "stream",
     "text": [
      "三連単 tflow2 15 order_s 27\n",
      "profit 38190.0\n"
     ]
    },
    {
     "name": "stderr",
     "output_type": "stream",
     "text": [
      "[I 2019-06-27 16:12:24,024] Finished trial#27 resulted in value: -38190.0. Current best value is -57030.0 with parameters: {'shiki': '三連単-tflow2', 'pattern': 'order_s', 'select_num': 16}.\n"
     ]
    },
    {
     "name": "stdout",
     "output_type": "stream",
     "text": [
      "三連複 form22 13 eq 28\n",
      "profit -137870.0\n"
     ]
    },
    {
     "name": "stderr",
     "output_type": "stream",
     "text": [
      "[I 2019-06-27 16:12:42,769] Finished trial#28 resulted in value: 137870.0. Current best value is -57030.0 with parameters: {'shiki': '三連単-tflow2', 'pattern': 'order_s', 'select_num': 16}.\n"
     ]
    },
    {
     "name": "stdout",
     "output_type": "stream",
     "text": [
      "ワイド flow 15 order_s 29\n",
      "profit -64280.0\n"
     ]
    },
    {
     "name": "stderr",
     "output_type": "stream",
     "text": [
      "[I 2019-06-27 16:12:55,781] Finished trial#29 resulted in value: 64280.0. Current best value is -57030.0 with parameters: {'shiki': '三連単-tflow2', 'pattern': 'order_s', 'select_num': 16}.\n"
     ]
    },
    {
     "name": "stdout",
     "output_type": "stream",
     "text": [
      "三連単 mbox 3 eq 30\n",
      "profit -103560.0\n"
     ]
    },
    {
     "name": "stderr",
     "output_type": "stream",
     "text": [
      "[I 2019-06-27 16:13:01,635] Finished trial#30 resulted in value: 103560.0. Current best value is -57030.0 with parameters: {'shiki': '三連単-tflow2', 'pattern': 'order_s', 'select_num': 16}.\n"
     ]
    },
    {
     "name": "stdout",
     "output_type": "stream",
     "text": [
      "馬単 mflow 11 eq 31\n",
      "profit -49090.0\n"
     ]
    },
    {
     "name": "stderr",
     "output_type": "stream",
     "text": [
      "[I 2019-06-27 16:13:19,417] Finished trial#31 resulted in value: 49090.0. Current best value is -57030.0 with parameters: {'shiki': '三連単-tflow2', 'pattern': 'order_s', 'select_num': 16}.\n"
     ]
    },
    {
     "name": "stdout",
     "output_type": "stream",
     "text": [
      "三連複 form21 6 eq 32\n",
      "profit -109530.0\n"
     ]
    },
    {
     "name": "stderr",
     "output_type": "stream",
     "text": [
      "[I 2019-06-27 16:13:34,131] Finished trial#32 resulted in value: 109530.0. Current best value is -57030.0 with parameters: {'shiki': '三連単-tflow2', 'pattern': 'order_s', 'select_num': 16}.\n"
     ]
    },
    {
     "name": "stdout",
     "output_type": "stream",
     "text": [
      "枠単 mbox 4 eq 33\n",
      "profit -98810.0\n"
     ]
    },
    {
     "name": "stderr",
     "output_type": "stream",
     "text": [
      "[I 2019-06-27 16:13:45,151] Finished trial#33 resulted in value: 98810.0. Current best value is -57030.0 with parameters: {'shiki': '三連単-tflow2', 'pattern': 'order_s', 'select_num': 16}.\n"
     ]
    },
    {
     "name": "stdout",
     "output_type": "stream",
     "text": [
      "枠複 form2 7 eq 34\n",
      "profit -90810.0\n"
     ]
    },
    {
     "name": "stderr",
     "output_type": "stream",
     "text": [
      "[I 2019-06-27 16:13:56,303] Finished trial#34 resulted in value: 90810.0. Current best value is -57030.0 with parameters: {'shiki': '三連単-tflow2', 'pattern': 'order_s', 'select_num': 16}.\n"
     ]
    },
    {
     "name": "stdout",
     "output_type": "stream",
     "text": [
      "三連単 tflow2 13 order_s 35\n",
      "profit 82420.0\n"
     ]
    },
    {
     "name": "stderr",
     "output_type": "stream",
     "text": [
      "[I 2019-06-27 16:14:07,102] Finished trial#35 resulted in value: -82420.0. Current best value is -82420.0 with parameters: {'shiki': '三連単-tflow2', 'pattern': 'order_s', 'select_num': 13}.\n"
     ]
    },
    {
     "name": "stdout",
     "output_type": "stream",
     "text": [
      "三連単 form2t1 5 eq 36\n",
      "profit -98750.0\n"
     ]
    },
    {
     "name": "stderr",
     "output_type": "stream",
     "text": [
      "[I 2019-06-27 16:14:23,299] Finished trial#36 resulted in value: 98750.0. Current best value is -82420.0 with parameters: {'shiki': '三連単-tflow2', 'pattern': 'order_s', 'select_num': 13}.\n"
     ]
    },
    {
     "name": "stdout",
     "output_type": "stream",
     "text": [
      "単勝 none 13 order_s 37\n",
      "profit -75580.0\n"
     ]
    },
    {
     "name": "stderr",
     "output_type": "stream",
     "text": [
      "[I 2019-06-27 16:14:35,770] Finished trial#37 resulted in value: 75580.0. Current best value is -82420.0 with parameters: {'shiki': '三連単-tflow2', 'pattern': 'order_s', 'select_num': 13}.\n"
     ]
    },
    {
     "name": "stdout",
     "output_type": "stream",
     "text": [
      "三連単 mflow2 5 eq 38\n",
      "profit -90900.0\n"
     ]
    },
    {
     "name": "stderr",
     "output_type": "stream",
     "text": [
      "[I 2019-06-27 16:14:52,047] Finished trial#38 resulted in value: 90900.0. Current best value is -82420.0 with parameters: {'shiki': '三連単-tflow2', 'pattern': 'order_s', 'select_num': 13}.\n"
     ]
    },
    {
     "name": "stdout",
     "output_type": "stream",
     "text": [
      "三連単 tflow1 6 eq 39\n",
      "profit -162640.0\n"
     ]
    },
    {
     "name": "stderr",
     "output_type": "stream",
     "text": [
      "[I 2019-06-27 16:15:10,226] Finished trial#39 resulted in value: 162640.0. Current best value is -82420.0 with parameters: {'shiki': '三連単-tflow2', 'pattern': 'order_s', 'select_num': 13}.\n"
     ]
    },
    {
     "name": "stdout",
     "output_type": "stream",
     "text": [
      "普通馬複 form2 10 eq 40\n",
      "profit -83070.0\n"
     ]
    },
    {
     "name": "stderr",
     "output_type": "stream",
     "text": [
      "[I 2019-06-27 16:15:27,136] Finished trial#40 resulted in value: 83070.0. Current best value is -82420.0 with parameters: {'shiki': '三連単-tflow2', 'pattern': 'order_s', 'select_num': 13}.\n"
     ]
    },
    {
     "name": "stdout",
     "output_type": "stream",
     "text": [
      "枠単 mflow 8 eq 41\n",
      "profit -76590.0\n"
     ]
    },
    {
     "name": "stderr",
     "output_type": "stream",
     "text": [
      "[I 2019-06-27 16:15:39,863] Finished trial#41 resulted in value: 76590.0. Current best value is -82420.0 with parameters: {'shiki': '三連単-tflow2', 'pattern': 'order_s', 'select_num': 13}.\n"
     ]
    },
    {
     "name": "stdout",
     "output_type": "stream",
     "text": [
      "枠複 box 4 eq 42\n",
      "profit -93270.0\n"
     ]
    },
    {
     "name": "stderr",
     "output_type": "stream",
     "text": [
      "[I 2019-06-27 16:15:45,762] Finished trial#42 resulted in value: 93270.0. Current best value is -82420.0 with parameters: {'shiki': '三連単-tflow2', 'pattern': 'order_s', 'select_num': 13}.\n"
     ]
    },
    {
     "name": "stdout",
     "output_type": "stream",
     "text": [
      "三連単 tflow2 14 order_s 43\n",
      "profit 38190.0\n"
     ]
    },
    {
     "name": "stderr",
     "output_type": "stream",
     "text": [
      "[I 2019-06-27 16:15:57,247] Finished trial#43 resulted in value: -38190.0. Current best value is -82420.0 with parameters: {'shiki': '三連単-tflow2', 'pattern': 'order_s', 'select_num': 13}.\n"
     ]
    },
    {
     "name": "stdout",
     "output_type": "stream",
     "text": [
      "馬単 flow 14 order_o 44\n",
      "profit -30910.0\n"
     ]
    },
    {
     "name": "stderr",
     "output_type": "stream",
     "text": [
      "[I 2019-06-27 16:16:09,796] Finished trial#44 resulted in value: 30910.0. Current best value is -82420.0 with parameters: {'shiki': '三連単-tflow2', 'pattern': 'order_s', 'select_num': 13}.\n"
     ]
    },
    {
     "name": "stdout",
     "output_type": "stream",
     "text": [
      "普通馬複 flow 12 order_s 45\n",
      "profit -76360.0\n"
     ]
    },
    {
     "name": "stderr",
     "output_type": "stream",
     "text": [
      "[I 2019-06-27 16:16:20,488] Finished trial#45 resulted in value: 76360.0. Current best value is -82420.0 with parameters: {'shiki': '三連単-tflow2', 'pattern': 'order_s', 'select_num': 13}.\n"
     ]
    },
    {
     "name": "stdout",
     "output_type": "stream",
     "text": [
      "ワイド form2 9 eq 46\n",
      "profit -72210.0\n"
     ]
    },
    {
     "name": "stderr",
     "output_type": "stream",
     "text": [
      "[I 2019-06-27 16:16:34,890] Finished trial#46 resulted in value: 72210.0. Current best value is -82420.0 with parameters: {'shiki': '三連単-tflow2', 'pattern': 'order_s', 'select_num': 13}.\n"
     ]
    },
    {
     "name": "stdout",
     "output_type": "stream",
     "text": [
      "ワイド box 3 eq 47\n",
      "profit -83580.0\n"
     ]
    },
    {
     "name": "stderr",
     "output_type": "stream",
     "text": [
      "[I 2019-06-27 16:16:38,339] Finished trial#47 resulted in value: 83580.0. Current best value is -82420.0 with parameters: {'shiki': '三連単-tflow2', 'pattern': 'order_s', 'select_num': 13}.\n"
     ]
    },
    {
     "name": "stdout",
     "output_type": "stream",
     "text": [
      "馬単 mbox 2 eq 48\n",
      "profit -7110.0\n"
     ]
    },
    {
     "name": "stderr",
     "output_type": "stream",
     "text": [
      "[I 2019-06-27 16:16:40,838] Finished trial#48 resulted in value: 7110.0. Current best value is -82420.0 with parameters: {'shiki': '三連単-tflow2', 'pattern': 'order_s', 'select_num': 13}.\n"
     ]
    },
    {
     "name": "stdout",
     "output_type": "stream",
     "text": [
      "三連単 mflow1 3 eq 49\n",
      "profit -103560.0\n"
     ]
    },
    {
     "name": "stderr",
     "output_type": "stream",
     "text": [
      "[I 2019-06-27 16:16:46,907] Finished trial#49 resulted in value: 103560.0. Current best value is -82420.0 with parameters: {'shiki': '三連単-tflow2', 'pattern': 'order_s', 'select_num': 13}.\n"
     ]
    },
    {
     "name": "stdout",
     "output_type": "stream",
     "text": [
      "三連単 tflow2 13 order_s 50\n",
      "profit 82420.0\n"
     ]
    },
    {
     "name": "stderr",
     "output_type": "stream",
     "text": [
      "[I 2019-06-27 16:16:57,707] Finished trial#50 resulted in value: -82420.0. Current best value is -82420.0 with parameters: {'shiki': '三連単-tflow2', 'pattern': 'order_s', 'select_num': 13}.\n"
     ]
    },
    {
     "name": "stdout",
     "output_type": "stream",
     "text": [
      "三連単 tflow2 12 order_s 51\n",
      "profit 97600.0\n"
     ]
    },
    {
     "name": "stderr",
     "output_type": "stream",
     "text": [
      "[I 2019-06-27 16:17:08,054] Finished trial#51 resulted in value: -97600.0. Current best value is -97600.0 with parameters: {'shiki': '三連単-tflow2', 'pattern': 'order_s', 'select_num': 12}.\n"
     ]
    },
    {
     "name": "stdout",
     "output_type": "stream",
     "text": [
      "枠複 flow 7 order_s 52\n",
      "profit -58310.0\n"
     ]
    },
    {
     "name": "stderr",
     "output_type": "stream",
     "text": [
      "[I 2019-06-27 16:17:14,595] Finished trial#52 resulted in value: 58310.0. Current best value is -97600.0 with parameters: {'shiki': '三連単-tflow2', 'pattern': 'order_s', 'select_num': 12}.\n"
     ]
    },
    {
     "name": "stdout",
     "output_type": "stream",
     "text": [
      "三連単 form2t2 12 eq 53\n",
      "profit -68600.0\n"
     ]
    },
    {
     "name": "stderr",
     "output_type": "stream",
     "text": [
      "[I 2019-06-27 16:17:31,860] Finished trial#53 resulted in value: 68600.0. Current best value is -97600.0 with parameters: {'shiki': '三連単-tflow2', 'pattern': 'order_s', 'select_num': 12}.\n"
     ]
    },
    {
     "name": "stdout",
     "output_type": "stream",
     "text": [
      "三連複 box 6 eq 54\n",
      "profit -116250.0\n"
     ]
    },
    {
     "name": "stderr",
     "output_type": "stream",
     "text": [
      "[I 2019-06-27 16:17:49,809] Finished trial#54 resulted in value: 116250.0. Current best value is -97600.0 with parameters: {'shiki': '三連単-tflow2', 'pattern': 'order_s', 'select_num': 12}.\n"
     ]
    },
    {
     "name": "stdout",
     "output_type": "stream",
     "text": [
      "枠単 flow 8 order_s 55\n",
      "profit -52980.0\n"
     ]
    },
    {
     "name": "stderr",
     "output_type": "stream",
     "text": [
      "[I 2019-06-27 16:17:57,128] Finished trial#55 resulted in value: 52980.0. Current best value is -97600.0 with parameters: {'shiki': '三連単-tflow2', 'pattern': 'order_s', 'select_num': 12}.\n"
     ]
    },
    {
     "name": "stdout",
     "output_type": "stream",
     "text": [
      "三連複 flow2 11 order_s 56\n",
      "profit -21360.0\n"
     ]
    },
    {
     "name": "stderr",
     "output_type": "stream",
     "text": [
      "[I 2019-06-27 16:18:06,093] Finished trial#56 resulted in value: 21360.0. Current best value is -97600.0 with parameters: {'shiki': '三連単-tflow2', 'pattern': 'order_s', 'select_num': 12}.\n"
     ]
    },
    {
     "name": "stdout",
     "output_type": "stream",
     "text": [
      "普通馬複 box 5 eq 57\n",
      "profit -140220.0\n"
     ]
    },
    {
     "name": "stderr",
     "output_type": "stream",
     "text": [
      "[I 2019-06-27 16:18:15,299] Finished trial#57 resulted in value: 140220.0. Current best value is -97600.0 with parameters: {'shiki': '三連単-tflow2', 'pattern': 'order_s', 'select_num': 12}.\n"
     ]
    },
    {
     "name": "stdout",
     "output_type": "stream",
     "text": [
      "三連複 flow1 7 eq 58\n",
      "profit -93170.0\n"
     ]
    },
    {
     "name": "stderr",
     "output_type": "stream",
     "text": [
      "[I 2019-06-27 16:18:29,036] Finished trial#58 resulted in value: 93170.0. Current best value is -97600.0 with parameters: {'shiki': '三連単-tflow2', 'pattern': 'order_s', 'select_num': 12}.\n"
     ]
    },
    {
     "name": "stdout",
     "output_type": "stream",
     "text": [
      "三連複 form22 10 eq 59\n",
      "profit -58290.0\n"
     ]
    },
    {
     "name": "stderr",
     "output_type": "stream",
     "text": [
      "[I 2019-06-27 16:18:42,963] Finished trial#59 resulted in value: 58290.0. Current best value is -97600.0 with parameters: {'shiki': '三連単-tflow2', 'pattern': 'order_s', 'select_num': 12}.\n"
     ]
    },
    {
     "name": "stdout",
     "output_type": "stream",
     "text": [
      "ワイド flow 15 order_s 60\n",
      "profit -64280.0\n"
     ]
    },
    {
     "name": "stderr",
     "output_type": "stream",
     "text": [
      "[I 2019-06-27 16:18:56,209] Finished trial#60 resulted in value: 64280.0. Current best value is -97600.0 with parameters: {'shiki': '三連単-tflow2', 'pattern': 'order_s', 'select_num': 12}.\n"
     ]
    },
    {
     "name": "stdout",
     "output_type": "stream",
     "text": [
      "馬単 mflow 9 eq 61\n",
      "profit -82950.0\n"
     ]
    },
    {
     "name": "stderr",
     "output_type": "stream",
     "text": [
      "[I 2019-06-27 16:19:11,069] Finished trial#61 resulted in value: 82950.0. Current best value is -97600.0 with parameters: {'shiki': '三連単-tflow2', 'pattern': 'order_s', 'select_num': 12}.\n"
     ]
    },
    {
     "name": "stdout",
     "output_type": "stream",
     "text": [
      "三連単 tflow2 12 eq 62\n",
      "profit 26850.0\n"
     ]
    },
    {
     "name": "stderr",
     "output_type": "stream",
     "text": [
      "[I 2019-06-27 16:19:20,549] Finished trial#62 resulted in value: -26850.0. Current best value is -97600.0 with parameters: {'shiki': '三連単-tflow2', 'pattern': 'order_s', 'select_num': 12}.\n"
     ]
    },
    {
     "name": "stdout",
     "output_type": "stream",
     "text": [
      "三連単 mbox 3 eq 63\n",
      "profit -103560.0\n"
     ]
    },
    {
     "name": "stderr",
     "output_type": "stream",
     "text": [
      "[I 2019-06-27 16:19:26,648] Finished trial#63 resulted in value: 103560.0. Current best value is -97600.0 with parameters: {'shiki': '三連単-tflow2', 'pattern': 'order_s', 'select_num': 12}.\n"
     ]
    },
    {
     "name": "stdout",
     "output_type": "stream",
     "text": [
      "三連複 form21 4 eq 64\n",
      "profit 5710.0\n"
     ]
    },
    {
     "name": "stderr",
     "output_type": "stream",
     "text": [
      "[I 2019-06-27 16:19:30,954] Finished trial#64 resulted in value: -5710.0. Current best value is -97600.0 with parameters: {'shiki': '三連単-tflow2', 'pattern': 'order_s', 'select_num': 12}.\n"
     ]
    },
    {
     "name": "stdout",
     "output_type": "stream",
     "text": [
      "複勝 none 13 order_o 65\n",
      "profit -74410.0\n"
     ]
    },
    {
     "name": "stderr",
     "output_type": "stream",
     "text": [
      "[I 2019-06-27 16:19:43,687] Finished trial#65 resulted in value: 74410.0. Current best value is -97600.0 with parameters: {'shiki': '三連単-tflow2', 'pattern': 'order_s', 'select_num': 12}.\n"
     ]
    },
    {
     "name": "stdout",
     "output_type": "stream",
     "text": [
      "三連単 tflow2 13 order_s 66\n",
      "profit 82420.0\n"
     ]
    },
    {
     "name": "stderr",
     "output_type": "stream",
     "text": [
      "[I 2019-06-27 16:19:54,560] Finished trial#66 resulted in value: -82420.0. Current best value is -97600.0 with parameters: {'shiki': '三連単-tflow2', 'pattern': 'order_s', 'select_num': 12}.\n"
     ]
    },
    {
     "name": "stdout",
     "output_type": "stream",
     "text": [
      "三連単 tflow2 11 order_s 67\n",
      "profit 108830.0\n"
     ]
    },
    {
     "name": "stderr",
     "output_type": "stream",
     "text": [
      "[I 2019-06-27 16:20:03,836] Finished trial#67 resulted in value: -108830.0. Current best value is -108830.0 with parameters: {'shiki': '三連単-tflow2', 'pattern': 'order_s', 'select_num': 11}.\n"
     ]
    },
    {
     "name": "stdout",
     "output_type": "stream",
     "text": [
      "枠単 mbox 2 eq 68\n",
      "profit -6750.0\n"
     ]
    },
    {
     "name": "stderr",
     "output_type": "stream",
     "text": [
      "[I 2019-06-27 16:20:06,394] Finished trial#68 resulted in value: 6750.0. Current best value is -108830.0 with parameters: {'shiki': '三連単-tflow2', 'pattern': 'order_s', 'select_num': 11}.\n"
     ]
    },
    {
     "name": "stdout",
     "output_type": "stream",
     "text": [
      "三連単 tflow2 11 eq 69\n",
      "profit 51730.0\n"
     ]
    },
    {
     "name": "stderr",
     "output_type": "stream",
     "text": [
      "[I 2019-06-27 16:20:15,180] Finished trial#69 resulted in value: -51730.0. Current best value is -108830.0 with parameters: {'shiki': '三連単-tflow2', 'pattern': 'order_s', 'select_num': 11}.\n"
     ]
    },
    {
     "name": "stdout",
     "output_type": "stream",
     "text": [
      "単勝 none 14 order_s 70\n",
      "profit -71000.0\n"
     ]
    },
    {
     "name": "stderr",
     "output_type": "stream",
     "text": [
      "[I 2019-06-27 16:20:28,929] Finished trial#70 resulted in value: 71000.0. Current best value is -108830.0 with parameters: {'shiki': '三連単-tflow2', 'pattern': 'order_s', 'select_num': 11}.\n"
     ]
    },
    {
     "name": "stdout",
     "output_type": "stream",
     "text": [
      "枠複 form2 7 eq 71\n",
      "profit -90810.0\n"
     ]
    },
    {
     "name": "stderr",
     "output_type": "stream",
     "text": [
      "[I 2019-06-27 16:20:40,775] Finished trial#71 resulted in value: 90810.0. Current best value is -108830.0 with parameters: {'shiki': '三連単-tflow2', 'pattern': 'order_s', 'select_num': 11}.\n"
     ]
    },
    {
     "name": "stdout",
     "output_type": "stream",
     "text": [
      "三連単 mflow2 4 eq 72\n",
      "profit -46500.0\n"
     ]
    },
    {
     "name": "stderr",
     "output_type": "stream",
     "text": [
      "[I 2019-06-27 16:20:52,126] Finished trial#72 resulted in value: 46500.0. Current best value is -108830.0 with parameters: {'shiki': '三連単-tflow2', 'pattern': 'order_s', 'select_num': 11}.\n"
     ]
    },
    {
     "name": "stdout",
     "output_type": "stream",
     "text": [
      "三連単 form2t1 5 eq 73\n",
      "profit -98750.0\n"
     ]
    },
    {
     "name": "stderr",
     "output_type": "stream",
     "text": [
      "[I 2019-06-27 16:21:08,887] Finished trial#73 resulted in value: 98750.0. Current best value is -108830.0 with parameters: {'shiki': '三連単-tflow2', 'pattern': 'order_s', 'select_num': 11}.\n"
     ]
    },
    {
     "name": "stdout",
     "output_type": "stream",
     "text": [
      "三連単 tflow2 12 eq 74\n",
      "profit 26850.0\n"
     ]
    },
    {
     "name": "stderr",
     "output_type": "stream",
     "text": [
      "[I 2019-06-27 16:21:18,553] Finished trial#74 resulted in value: -26850.0. Current best value is -108830.0 with parameters: {'shiki': '三連単-tflow2', 'pattern': 'order_s', 'select_num': 11}.\n"
     ]
    },
    {
     "name": "stdout",
     "output_type": "stream",
     "text": [
      "三連単 tflow1 6 eq 75\n",
      "profit -162640.0\n"
     ]
    },
    {
     "name": "stderr",
     "output_type": "stream",
     "text": [
      "[I 2019-06-27 16:21:36,773] Finished trial#75 resulted in value: 162640.0. Current best value is -108830.0 with parameters: {'shiki': '三連単-tflow2', 'pattern': 'order_s', 'select_num': 11}.\n"
     ]
    },
    {
     "name": "stdout",
     "output_type": "stream",
     "text": [
      "普通馬複 form2 11 eq 76\n",
      "profit -104490.0\n"
     ]
    },
    {
     "name": "stderr",
     "output_type": "stream",
     "text": [
      "[I 2019-06-27 16:21:55,038] Finished trial#76 resulted in value: 104490.0. Current best value is -108830.0 with parameters: {'shiki': '三連単-tflow2', 'pattern': 'order_s', 'select_num': 11}.\n"
     ]
    },
    {
     "name": "stdout",
     "output_type": "stream",
     "text": [
      "枠単 mflow 8 eq 77\n",
      "profit -76590.0\n"
     ]
    },
    {
     "name": "stderr",
     "output_type": "stream",
     "text": [
      "[I 2019-06-27 16:22:08,253] Finished trial#77 resulted in value: 76590.0. Current best value is -108830.0 with parameters: {'shiki': '三連単-tflow2', 'pattern': 'order_s', 'select_num': 11}.\n"
     ]
    },
    {
     "name": "stdout",
     "output_type": "stream",
     "text": [
      "枠複 box 6 eq 78\n",
      "profit -102870.0\n"
     ]
    },
    {
     "name": "stderr",
     "output_type": "stream",
     "text": [
      "[I 2019-06-27 16:22:22,486] Finished trial#78 resulted in value: 102870.0. Current best value is -108830.0 with parameters: {'shiki': '三連単-tflow2', 'pattern': 'order_s', 'select_num': 11}.\n"
     ]
    },
    {
     "name": "stdout",
     "output_type": "stream",
     "text": [
      "三連単 tflow2 10 order_o 79\n",
      "profit 68030.0\n"
     ]
    },
    {
     "name": "stderr",
     "output_type": "stream",
     "text": [
      "[I 2019-06-27 16:22:30,772] Finished trial#79 resulted in value: -68030.0. Current best value is -108830.0 with parameters: {'shiki': '三連単-tflow2', 'pattern': 'order_s', 'select_num': 11}.\n"
     ]
    },
    {
     "name": "stdout",
     "output_type": "stream",
     "text": [
      "普通馬複 flow 14 eq 80\n",
      "profit -74920.0\n"
     ]
    },
    {
     "name": "stderr",
     "output_type": "stream",
     "text": [
      "[I 2019-06-27 16:22:42,375] Finished trial#80 resulted in value: 74920.0. Current best value is -108830.0 with parameters: {'shiki': '三連単-tflow2', 'pattern': 'order_s', 'select_num': 11}.\n"
     ]
    },
    {
     "name": "stdout",
     "output_type": "stream",
     "text": [
      "ワイド box 3 eq 81\n",
      "profit -83580.0\n"
     ]
    },
    {
     "name": "stderr",
     "output_type": "stream",
     "text": [
      "[I 2019-06-27 16:22:45,800] Finished trial#81 resulted in value: 83580.0. Current best value is -108830.0 with parameters: {'shiki': '三連単-tflow2', 'pattern': 'order_s', 'select_num': 11}.\n"
     ]
    },
    {
     "name": "stdout",
     "output_type": "stream",
     "text": [
      "三連単 mflow1 4 eq 82\n",
      "profit -148330.0\n"
     ]
    },
    {
     "name": "stderr",
     "output_type": "stream",
     "text": [
      "[I 2019-06-27 16:22:56,738] Finished trial#82 resulted in value: 148330.0. Current best value is -108830.0 with parameters: {'shiki': '三連単-tflow2', 'pattern': 'order_s', 'select_num': 11}.\n"
     ]
    },
    {
     "name": "stdout",
     "output_type": "stream",
     "text": [
      "馬単 flow 16 order_s 83\n",
      "profit -33930.0\n"
     ]
    },
    {
     "name": "stderr",
     "output_type": "stream",
     "text": [
      "[I 2019-06-27 16:23:10,395] Finished trial#83 resulted in value: 33930.0. Current best value is -108830.0 with parameters: {'shiki': '三連単-tflow2', 'pattern': 'order_s', 'select_num': 11}.\n"
     ]
    },
    {
     "name": "stdout",
     "output_type": "stream",
     "text": [
      "馬単 mbox 2 eq 84\n",
      "profit -7110.0\n"
     ]
    },
    {
     "name": "stderr",
     "output_type": "stream",
     "text": [
      "[I 2019-06-27 16:23:12,963] Finished trial#84 resulted in value: 7110.0. Current best value is -108830.0 with parameters: {'shiki': '三連単-tflow2', 'pattern': 'order_s', 'select_num': 11}.\n"
     ]
    },
    {
     "name": "stdout",
     "output_type": "stream",
     "text": [
      "三連単 tflow2 15 order_s 85\n",
      "profit 38190.0\n"
     ]
    },
    {
     "name": "stderr",
     "output_type": "stream",
     "text": [
      "[I 2019-06-27 16:23:25,102] Finished trial#85 resulted in value: -38190.0. Current best value is -108830.0 with parameters: {'shiki': '三連単-tflow2', 'pattern': 'order_s', 'select_num': 11}.\n"
     ]
    },
    {
     "name": "stdout",
     "output_type": "stream",
     "text": [
      "ワイド form2 11 eq 86\n",
      "profit -82750.0\n"
     ]
    },
    {
     "name": "stderr",
     "output_type": "stream",
     "text": [
      "[I 2019-06-27 16:23:42,838] Finished trial#86 resulted in value: 82750.0. Current best value is -108830.0 with parameters: {'shiki': '三連単-tflow2', 'pattern': 'order_s', 'select_num': 11}.\n"
     ]
    },
    {
     "name": "stdout",
     "output_type": "stream",
     "text": [
      "枠複 flow 8 order_o 87\n",
      "profit -65930.0\n"
     ]
    },
    {
     "name": "stderr",
     "output_type": "stream",
     "text": [
      "[I 2019-06-27 16:23:50,172] Finished trial#87 resulted in value: 65930.0. Current best value is -108830.0 with parameters: {'shiki': '三連単-tflow2', 'pattern': 'order_s', 'select_num': 11}.\n"
     ]
    },
    {
     "name": "stdout",
     "output_type": "stream",
     "text": [
      "三連単 form2t2 9 eq 88\n",
      "profit 34210.0\n"
     ]
    },
    {
     "name": "stderr",
     "output_type": "stream",
     "text": [
      "[I 2019-06-27 16:24:02,377] Finished trial#88 resulted in value: -34210.0. Current best value is -108830.0 with parameters: {'shiki': '三連単-tflow2', 'pattern': 'order_s', 'select_num': 11}.\n"
     ]
    },
    {
     "name": "stdout",
     "output_type": "stream",
     "text": [
      "三連複 box 6 eq 89\n",
      "profit -116250.0\n"
     ]
    },
    {
     "name": "stderr",
     "output_type": "stream",
     "text": [
      "[I 2019-06-27 16:24:20,290] Finished trial#89 resulted in value: 116250.0. Current best value is -108830.0 with parameters: {'shiki': '三連単-tflow2', 'pattern': 'order_s', 'select_num': 11}.\n"
     ]
    },
    {
     "name": "stdout",
     "output_type": "stream",
     "text": [
      "普通馬複 box 7 eq 90\n",
      "profit -88140.0\n"
     ]
    },
    {
     "name": "stderr",
     "output_type": "stream",
     "text": [
      "[I 2019-06-27 16:24:38,958] Finished trial#90 resulted in value: 88140.0. Current best value is -108830.0 with parameters: {'shiki': '三連単-tflow2', 'pattern': 'order_s', 'select_num': 11}.\n"
     ]
    },
    {
     "name": "stdout",
     "output_type": "stream",
     "text": [
      "枠単 flow 8 eq 91\n",
      "profit -67080.0\n"
     ]
    },
    {
     "name": "stderr",
     "output_type": "stream",
     "text": [
      "[I 2019-06-27 16:24:45,803] Finished trial#91 resulted in value: 67080.0. Current best value is -108830.0 with parameters: {'shiki': '三連単-tflow2', 'pattern': 'order_s', 'select_num': 11}.\n"
     ]
    },
    {
     "name": "stdout",
     "output_type": "stream",
     "text": [
      "三連複 flow2 12 order_s 92\n",
      "profit -22800.0\n"
     ]
    },
    {
     "name": "stderr",
     "output_type": "stream",
     "text": [
      "[I 2019-06-27 16:24:55,734] Finished trial#92 resulted in value: 22800.0. Current best value is -108830.0 with parameters: {'shiki': '三連単-tflow2', 'pattern': 'order_s', 'select_num': 11}.\n"
     ]
    },
    {
     "name": "stdout",
     "output_type": "stream",
     "text": [
      "三連複 flow1 5 eq 93\n",
      "profit -116020.0\n"
     ]
    },
    {
     "name": "stderr",
     "output_type": "stream",
     "text": [
      "[I 2019-06-27 16:25:01,839] Finished trial#93 resulted in value: 116020.0. Current best value is -108830.0 with parameters: {'shiki': '三連単-tflow2', 'pattern': 'order_s', 'select_num': 11}.\n"
     ]
    },
    {
     "name": "stdout",
     "output_type": "stream",
     "text": [
      "三連複 form22 13 eq 94\n",
      "profit -137870.0\n"
     ]
    },
    {
     "name": "stderr",
     "output_type": "stream",
     "text": [
      "[I 2019-06-27 16:25:20,380] Finished trial#94 resulted in value: 137870.0. Current best value is -108830.0 with parameters: {'shiki': '三連単-tflow2', 'pattern': 'order_s', 'select_num': 11}.\n"
     ]
    },
    {
     "name": "stdout",
     "output_type": "stream",
     "text": [
      "ワイド flow 10 order_o 95\n",
      "profit -71380.0\n"
     ]
    },
    {
     "name": "stderr",
     "output_type": "stream",
     "text": [
      "[I 2019-06-27 16:25:29,494] Finished trial#95 resulted in value: 71380.0. Current best value is -108830.0 with parameters: {'shiki': '三連単-tflow2', 'pattern': 'order_s', 'select_num': 11}.\n"
     ]
    },
    {
     "name": "stdout",
     "output_type": "stream",
     "text": [
      "馬単 mflow 10 eq 96\n",
      "profit -32320.0\n"
     ]
    },
    {
     "name": "stderr",
     "output_type": "stream",
     "text": [
      "[I 2019-06-27 16:25:46,370] Finished trial#96 resulted in value: 32320.0. Current best value is -108830.0 with parameters: {'shiki': '三連単-tflow2', 'pattern': 'order_s', 'select_num': 11}.\n"
     ]
    },
    {
     "name": "stdout",
     "output_type": "stream",
     "text": [
      "三連単 tflow2 14 order_s 97\n",
      "profit 38190.0\n"
     ]
    },
    {
     "name": "stderr",
     "output_type": "stream",
     "text": [
      "[I 2019-06-27 16:25:58,349] Finished trial#97 resulted in value: -38190.0. Current best value is -108830.0 with parameters: {'shiki': '三連単-tflow2', 'pattern': 'order_s', 'select_num': 11}.\n"
     ]
    },
    {
     "name": "stdout",
     "output_type": "stream",
     "text": [
      "三連単 mbox 3 eq 98\n",
      "profit -103560.0\n"
     ]
    },
    {
     "name": "stderr",
     "output_type": "stream",
     "text": [
      "[I 2019-06-27 16:26:04,416] Finished trial#98 resulted in value: 103560.0. Current best value is -108830.0 with parameters: {'shiki': '三連単-tflow2', 'pattern': 'order_s', 'select_num': 11}.\n"
     ]
    },
    {
     "name": "stdout",
     "output_type": "stream",
     "text": [
      "複勝 none 15 order_s 99\n",
      "profit -63440.0\n"
     ]
    },
    {
     "name": "stderr",
     "output_type": "stream",
     "text": [
      "[I 2019-06-27 16:26:18,547] Finished trial#99 resulted in value: 63440.0. Current best value is -108830.0 with parameters: {'shiki': '三連単-tflow2', 'pattern': 'order_s', 'select_num': 11}.\n"
     ]
    },
    {
     "name": "stdout",
     "output_type": "stream",
     "text": [
      "三連複 form21 6 eq 100\n",
      "profit -109530.0\n"
     ]
    },
    {
     "name": "stderr",
     "output_type": "stream",
     "text": [
      "[I 2019-06-27 16:26:33,179] Finished trial#100 resulted in value: 109530.0. Current best value is -108830.0 with parameters: {'shiki': '三連単-tflow2', 'pattern': 'order_s', 'select_num': 11}.\n"
     ]
    },
    {
     "name": "stdout",
     "output_type": "stream",
     "text": [
      "枠単 mbox 2 eq 101\n",
      "profit -6750.0\n"
     ]
    },
    {
     "name": "stderr",
     "output_type": "stream",
     "text": [
      "[I 2019-06-27 16:26:35,746] Finished trial#101 resulted in value: 6750.0. Current best value is -108830.0 with parameters: {'shiki': '三連単-tflow2', 'pattern': 'order_s', 'select_num': 11}.\n"
     ]
    },
    {
     "name": "stdout",
     "output_type": "stream",
     "text": [
      "三連単 tflow2 12 eq 102\n",
      "profit 26850.0\n"
     ]
    },
    {
     "name": "stderr",
     "output_type": "stream",
     "text": [
      "[I 2019-06-27 16:26:45,166] Finished trial#102 resulted in value: -26850.0. Current best value is -108830.0 with parameters: {'shiki': '三連単-tflow2', 'pattern': 'order_s', 'select_num': 11}.\n"
     ]
    },
    {
     "name": "stdout",
     "output_type": "stream",
     "text": [
      "単勝 none 16 order_s 103\n",
      "profit -73710.0\n"
     ]
    },
    {
     "name": "stderr",
     "output_type": "stream",
     "text": [
      "[I 2019-06-27 16:27:00,050] Finished trial#103 resulted in value: 73710.0. Current best value is -108830.0 with parameters: {'shiki': '三連単-tflow2', 'pattern': 'order_s', 'select_num': 11}.\n"
     ]
    },
    {
     "name": "stdout",
     "output_type": "stream",
     "text": [
      "三連単 form2t1 4 eq 104\n",
      "profit -142020.0\n"
     ]
    },
    {
     "name": "stderr",
     "output_type": "stream",
     "text": [
      "[I 2019-06-27 16:27:07,970] Finished trial#104 resulted in value: 142020.0. Current best value is -108830.0 with parameters: {'shiki': '三連単-tflow2', 'pattern': 'order_s', 'select_num': 11}.\n"
     ]
    },
    {
     "name": "stdout",
     "output_type": "stream",
     "text": [
      "三連単 tflow1 5 eq 105\n",
      "profit -139070.0\n"
     ]
    },
    {
     "name": "stderr",
     "output_type": "stream",
     "text": [
      "[I 2019-06-27 16:27:19,214] Finished trial#105 resulted in value: 139070.0. Current best value is -108830.0 with parameters: {'shiki': '三連単-tflow2', 'pattern': 'order_s', 'select_num': 11}.\n"
     ]
    },
    {
     "name": "stdout",
     "output_type": "stream",
     "text": [
      "枠複 form2 7 eq 106\n",
      "profit -90810.0\n"
     ]
    },
    {
     "name": "stderr",
     "output_type": "stream",
     "text": [
      "[I 2019-06-27 16:27:30,716] Finished trial#106 resulted in value: 90810.0. Current best value is -108830.0 with parameters: {'shiki': '三連単-tflow2', 'pattern': 'order_s', 'select_num': 11}.\n"
     ]
    },
    {
     "name": "stdout",
     "output_type": "stream",
     "text": [
      "三連単 mflow2 5 eq 107\n",
      "profit -90900.0\n"
     ]
    },
    {
     "name": "stderr",
     "output_type": "stream",
     "text": [
      "[I 2019-06-27 16:27:46,887] Finished trial#107 resulted in value: 90900.0. Current best value is -108830.0 with parameters: {'shiki': '三連単-tflow2', 'pattern': 'order_s', 'select_num': 11}.\n"
     ]
    },
    {
     "name": "stdout",
     "output_type": "stream",
     "text": [
      "普通馬複 form2 11 eq 108\n",
      "profit -104490.0\n"
     ]
    },
    {
     "name": "stderr",
     "output_type": "stream",
     "text": [
      "[I 2019-06-27 16:28:04,846] Finished trial#108 resulted in value: 104490.0. Current best value is -108830.0 with parameters: {'shiki': '三連単-tflow2', 'pattern': 'order_s', 'select_num': 11}.\n"
     ]
    },
    {
     "name": "stdout",
     "output_type": "stream",
     "text": [
      "枠単 mflow 8 eq 109\n",
      "profit -76590.0\n"
     ]
    },
    {
     "name": "stderr",
     "output_type": "stream",
     "text": [
      "[I 2019-06-27 16:28:17,619] Finished trial#109 resulted in value: 76590.0. Current best value is -108830.0 with parameters: {'shiki': '三連単-tflow2', 'pattern': 'order_s', 'select_num': 11}.\n"
     ]
    },
    {
     "name": "stdout",
     "output_type": "stream",
     "text": [
      "三連単 tflow2 13 order_o 110\n",
      "profit 72290.0\n"
     ]
    },
    {
     "name": "stderr",
     "output_type": "stream",
     "text": [
      "[I 2019-06-27 16:28:28,274] Finished trial#110 resulted in value: -72290.0. Current best value is -108830.0 with parameters: {'shiki': '三連単-tflow2', 'pattern': 'order_s', 'select_num': 11}.\n"
     ]
    },
    {
     "name": "stdout",
     "output_type": "stream",
     "text": [
      "枠複 box 7 eq 111\n",
      "profit -119300.0\n"
     ]
    },
    {
     "name": "stderr",
     "output_type": "stream",
     "text": [
      "[I 2019-06-27 16:28:46,978] Finished trial#111 resulted in value: 119300.0. Current best value is -108830.0 with parameters: {'shiki': '三連単-tflow2', 'pattern': 'order_s', 'select_num': 11}.\n"
     ]
    },
    {
     "name": "stdout",
     "output_type": "stream",
     "text": [
      "普通馬複 flow 9 order_s 112\n",
      "profit -72930.0\n"
     ]
    },
    {
     "name": "stderr",
     "output_type": "stream",
     "text": [
      "[I 2019-06-27 16:28:55,043] Finished trial#112 resulted in value: 72930.0. Current best value is -108830.0 with parameters: {'shiki': '三連単-tflow2', 'pattern': 'order_s', 'select_num': 11}.\n"
     ]
    },
    {
     "name": "stdout",
     "output_type": "stream",
     "text": [
      "ワイド box 6 eq 113\n",
      "profit -88650.0\n"
     ]
    },
    {
     "name": "stderr",
     "output_type": "stream",
     "text": [
      "[I 2019-06-27 16:29:08,885] Finished trial#113 resulted in value: 88650.0. Current best value is -108830.0 with parameters: {'shiki': '三連単-tflow2', 'pattern': 'order_s', 'select_num': 11}.\n"
     ]
    },
    {
     "name": "stdout",
     "output_type": "stream",
     "text": [
      "三連単 tflow2 14 order_s 114\n",
      "profit 38190.0\n"
     ]
    },
    {
     "name": "stderr",
     "output_type": "stream",
     "text": [
      "[I 2019-06-27 16:29:20,570] Finished trial#114 resulted in value: -38190.0. Current best value is -108830.0 with parameters: {'shiki': '三連単-tflow2', 'pattern': 'order_s', 'select_num': 11}.\n"
     ]
    },
    {
     "name": "stdout",
     "output_type": "stream",
     "text": [
      "馬単 flow 11 order_s 115\n",
      "profit -51270.0\n"
     ]
    },
    {
     "name": "stderr",
     "output_type": "stream",
     "text": [
      "[I 2019-06-27 16:29:30,250] Finished trial#115 resulted in value: 51270.0. Current best value is -108830.0 with parameters: {'shiki': '三連単-tflow2', 'pattern': 'order_s', 'select_num': 11}.\n"
     ]
    },
    {
     "name": "stdout",
     "output_type": "stream",
     "text": [
      "馬単 mbox 2 eq 116\n",
      "profit -7110.0\n"
     ]
    },
    {
     "name": "stderr",
     "output_type": "stream",
     "text": [
      "[I 2019-06-27 16:29:32,814] Finished trial#116 resulted in value: 7110.0. Current best value is -108830.0 with parameters: {'shiki': '三連単-tflow2', 'pattern': 'order_s', 'select_num': 11}.\n"
     ]
    },
    {
     "name": "stdout",
     "output_type": "stream",
     "text": [
      "三連複 box 4 eq 117\n",
      "profit 5710.0\n"
     ]
    },
    {
     "name": "stderr",
     "output_type": "stream",
     "text": [
      "[I 2019-06-27 16:29:37,095] Finished trial#117 resulted in value: -5710.0. Current best value is -108830.0 with parameters: {'shiki': '三連単-tflow2', 'pattern': 'order_s', 'select_num': 11}.\n"
     ]
    },
    {
     "name": "stdout",
     "output_type": "stream",
     "text": [
      "三連単 mflow1 3 eq 118\n",
      "profit -103560.0\n"
     ]
    },
    {
     "name": "stderr",
     "output_type": "stream",
     "text": [
      "[I 2019-06-27 16:29:43,050] Finished trial#118 resulted in value: 103560.0. Current best value is -108830.0 with parameters: {'shiki': '三連単-tflow2', 'pattern': 'order_s', 'select_num': 11}.\n"
     ]
    },
    {
     "name": "stdout",
     "output_type": "stream",
     "text": [
      "枠複 flow 8 eq 119\n",
      "profit -75990.0\n"
     ]
    },
    {
     "name": "stderr",
     "output_type": "stream",
     "text": [
      "[I 2019-06-27 16:29:49,829] Finished trial#119 resulted in value: 75990.0. Current best value is -108830.0 with parameters: {'shiki': '三連単-tflow2', 'pattern': 'order_s', 'select_num': 11}.\n"
     ]
    },
    {
     "name": "stdout",
     "output_type": "stream",
     "text": [
      "ワイド form2 11 eq 120\n",
      "profit -82750.0\n"
     ]
    },
    {
     "name": "stderr",
     "output_type": "stream",
     "text": [
      "[I 2019-06-27 16:30:07,861] Finished trial#120 resulted in value: 82750.0. Current best value is -108830.0 with parameters: {'shiki': '三連単-tflow2', 'pattern': 'order_s', 'select_num': 11}.\n"
     ]
    },
    {
     "name": "stdout",
     "output_type": "stream",
     "text": [
      "三連複 flow1 7 eq 121\n",
      "profit -93170.0\n"
     ]
    },
    {
     "name": "stderr",
     "output_type": "stream",
     "text": [
      "[I 2019-06-27 16:30:21,574] Finished trial#121 resulted in value: 93170.0. Current best value is -108830.0 with parameters: {'shiki': '三連単-tflow2', 'pattern': 'order_s', 'select_num': 11}.\n"
     ]
    },
    {
     "name": "stdout",
     "output_type": "stream",
     "text": [
      "枠単 flow 6 order_s 122\n",
      "profit -55780.0\n"
     ]
    },
    {
     "name": "stderr",
     "output_type": "stream",
     "text": [
      "[I 2019-06-27 16:30:27,241] Finished trial#122 resulted in value: 55780.0. Current best value is -108830.0 with parameters: {'shiki': '三連単-tflow2', 'pattern': 'order_s', 'select_num': 11}.\n"
     ]
    },
    {
     "name": "stdout",
     "output_type": "stream",
     "text": [
      "三連複 flow2 12 order_o 123\n",
      "profit -38880.0\n"
     ]
    },
    {
     "name": "stderr",
     "output_type": "stream",
     "text": [
      "[I 2019-06-27 16:30:37,309] Finished trial#123 resulted in value: 38880.0. Current best value is -108830.0 with parameters: {'shiki': '三連単-tflow2', 'pattern': 'order_s', 'select_num': 11}.\n"
     ]
    },
    {
     "name": "stdout",
     "output_type": "stream",
     "text": [
      "三連単 tflow2 15 order_s 124\n",
      "profit 38190.0\n"
     ]
    },
    {
     "name": "stderr",
     "output_type": "stream",
     "text": [
      "[I 2019-06-27 16:30:49,840] Finished trial#124 resulted in value: -38190.0. Current best value is -108830.0 with parameters: {'shiki': '三連単-tflow2', 'pattern': 'order_s', 'select_num': 11}.\n"
     ]
    },
    {
     "name": "stdout",
     "output_type": "stream",
     "text": [
      "普通馬複 box 2 eq 125\n",
      "profit -8400.0\n"
     ]
    },
    {
     "name": "stderr",
     "output_type": "stream",
     "text": [
      "[I 2019-06-27 16:30:51,573] Finished trial#125 resulted in value: 8400.0. Current best value is -108830.0 with parameters: {'shiki': '三連単-tflow2', 'pattern': 'order_s', 'select_num': 11}.\n"
     ]
    },
    {
     "name": "stdout",
     "output_type": "stream",
     "text": [
      "三連単 form2t2 13 eq 126\n",
      "profit -79830.0\n"
     ]
    },
    {
     "name": "stderr",
     "output_type": "stream",
     "text": [
      "[I 2019-06-27 16:31:11,944] Finished trial#126 resulted in value: 79830.0. Current best value is -108830.0 with parameters: {'shiki': '三連単-tflow2', 'pattern': 'order_s', 'select_num': 11}.\n"
     ]
    },
    {
     "name": "stdout",
     "output_type": "stream",
     "text": [
      "三連複 form22 10 eq 127\n",
      "profit -58290.0\n"
     ]
    },
    {
     "name": "stderr",
     "output_type": "stream",
     "text": [
      "[I 2019-06-27 16:31:25,976] Finished trial#127 resulted in value: 58290.0. Current best value is -108830.0 with parameters: {'shiki': '三連単-tflow2', 'pattern': 'order_s', 'select_num': 11}.\n"
     ]
    },
    {
     "name": "stdout",
     "output_type": "stream",
     "text": [
      "馬単 mflow 11 eq 128\n",
      "profit -49090.0\n"
     ]
    },
    {
     "name": "stderr",
     "output_type": "stream",
     "text": [
      "[I 2019-06-27 16:31:44,699] Finished trial#128 resulted in value: 49090.0. Current best value is -108830.0 with parameters: {'shiki': '三連単-tflow2', 'pattern': 'order_s', 'select_num': 11}.\n"
     ]
    },
    {
     "name": "stdout",
     "output_type": "stream",
     "text": [
      "三連複 form21 4 eq 129\n",
      "profit 5710.0\n"
     ]
    },
    {
     "name": "stderr",
     "output_type": "stream",
     "text": [
      "[I 2019-06-27 16:31:49,254] Finished trial#129 resulted in value: -5710.0. Current best value is -108830.0 with parameters: {'shiki': '三連単-tflow2', 'pattern': 'order_s', 'select_num': 11}.\n"
     ]
    },
    {
     "name": "stdout",
     "output_type": "stream",
     "text": [
      "ワイド flow 16 order_s 130\n",
      "profit -65080.0\n"
     ]
    },
    {
     "name": "stderr",
     "output_type": "stream",
     "text": [
      "[I 2019-06-27 16:32:03,478] Finished trial#130 resulted in value: 65080.0. Current best value is -108830.0 with parameters: {'shiki': '三連単-tflow2', 'pattern': 'order_s', 'select_num': 11}.\n"
     ]
    },
    {
     "name": "stdout",
     "output_type": "stream",
     "text": [
      "三連単 tflow2 12 order_s 131\n",
      "profit 97600.0\n"
     ]
    },
    {
     "name": "stderr",
     "output_type": "stream",
     "text": [
      "[I 2019-06-27 16:32:13,833] Finished trial#131 resulted in value: -97600.0. Current best value is -108830.0 with parameters: {'shiki': '三連単-tflow2', 'pattern': 'order_s', 'select_num': 11}.\n"
     ]
    },
    {
     "name": "stdout",
     "output_type": "stream",
     "text": [
      "枠単 mbox 5 eq 132\n",
      "profit -120840.0\n"
     ]
    },
    {
     "name": "stderr",
     "output_type": "stream",
     "text": [
      "[I 2019-06-27 16:32:32,321] Finished trial#132 resulted in value: 120840.0. Current best value is -108830.0 with parameters: {'shiki': '三連単-tflow2', 'pattern': 'order_s', 'select_num': 11}.\n"
     ]
    },
    {
     "name": "stdout",
     "output_type": "stream",
     "text": [
      "複勝 none 9 order_s 133\n",
      "profit -69960.0\n"
     ]
    },
    {
     "name": "stderr",
     "output_type": "stream",
     "text": [
      "[I 2019-06-27 16:32:42,307] Finished trial#133 resulted in value: 69960.0. Current best value is -108830.0 with parameters: {'shiki': '三連単-tflow2', 'pattern': 'order_s', 'select_num': 11}.\n"
     ]
    },
    {
     "name": "stdout",
     "output_type": "stream",
     "text": [
      "三連単 mbox 3 eq 134\n",
      "profit -103560.0\n"
     ]
    },
    {
     "name": "stderr",
     "output_type": "stream",
     "text": [
      "[I 2019-06-27 16:32:48,542] Finished trial#134 resulted in value: 103560.0. Current best value is -108830.0 with parameters: {'shiki': '三連単-tflow2', 'pattern': 'order_s', 'select_num': 11}.\n"
     ]
    },
    {
     "name": "stdout",
     "output_type": "stream",
     "text": [
      "枠複 form2 8 eq 135\n",
      "profit -90400.0\n"
     ]
    },
    {
     "name": "stderr",
     "output_type": "stream",
     "text": [
      "[I 2019-06-27 16:33:01,755] Finished trial#135 resulted in value: 90400.0. Current best value is -108830.0 with parameters: {'shiki': '三連単-tflow2', 'pattern': 'order_s', 'select_num': 11}.\n"
     ]
    },
    {
     "name": "stdout",
     "output_type": "stream",
     "text": [
      "単勝 none 10 order_o 136\n",
      "profit -88130.0\n"
     ]
    },
    {
     "name": "stderr",
     "output_type": "stream",
     "text": [
      "[I 2019-06-27 16:33:12,235] Finished trial#136 resulted in value: 88130.0. Current best value is -108830.0 with parameters: {'shiki': '三連単-tflow2', 'pattern': 'order_s', 'select_num': 11}.\n"
     ]
    },
    {
     "name": "stdout",
     "output_type": "stream",
     "text": [
      "三連単 tflow2 12 eq 137\n",
      "profit 26850.0\n"
     ]
    },
    {
     "name": "stderr",
     "output_type": "stream",
     "text": [
      "[I 2019-06-27 16:33:21,900] Finished trial#137 resulted in value: -26850.0. Current best value is -108830.0 with parameters: {'shiki': '三連単-tflow2', 'pattern': 'order_s', 'select_num': 11}.\n"
     ]
    },
    {
     "name": "stdout",
     "output_type": "stream",
     "text": [
      "三連単 form2t1 5 eq 138\n",
      "profit -98750.0\n"
     ]
    },
    {
     "name": "stderr",
     "output_type": "stream",
     "text": [
      "[I 2019-06-27 16:33:38,686] Finished trial#138 resulted in value: 98750.0. Current best value is -108830.0 with parameters: {'shiki': '三連単-tflow2', 'pattern': 'order_s', 'select_num': 11}.\n"
     ]
    },
    {
     "name": "stdout",
     "output_type": "stream",
     "text": [
      "枠単 mflow 7 eq 139\n",
      "profit -70510.0\n"
     ]
    },
    {
     "name": "stderr",
     "output_type": "stream",
     "text": [
      "[I 2019-06-27 16:33:49,986] Finished trial#139 resulted in value: 70510.0. Current best value is -108830.0 with parameters: {'shiki': '三連単-tflow2', 'pattern': 'order_s', 'select_num': 11}.\n"
     ]
    },
    {
     "name": "stdout",
     "output_type": "stream",
     "text": [
      "三連単 tflow1 6 eq 140\n",
      "profit -162640.0\n"
     ]
    },
    {
     "name": "stderr",
     "output_type": "stream",
     "text": [
      "[I 2019-06-27 16:34:08,580] Finished trial#140 resulted in value: 162640.0. Current best value is -108830.0 with parameters: {'shiki': '三連単-tflow2', 'pattern': 'order_s', 'select_num': 11}.\n"
     ]
    },
    {
     "name": "stdout",
     "output_type": "stream",
     "text": [
      "普通馬複 form2 11 eq 141\n",
      "profit -104490.0\n"
     ]
    },
    {
     "name": "stderr",
     "output_type": "stream",
     "text": [
      "[I 2019-06-27 16:34:26,741] Finished trial#141 resulted in value: 104490.0. Current best value is -108830.0 with parameters: {'shiki': '三連単-tflow2', 'pattern': 'order_s', 'select_num': 11}.\n"
     ]
    },
    {
     "name": "stdout",
     "output_type": "stream",
     "text": [
      "三連単 mflow2 3 eq 142\n",
      "profit -103560.0\n"
     ]
    },
    {
     "name": "stderr",
     "output_type": "stream",
     "text": [
      "[I 2019-06-27 16:34:32,756] Finished trial#142 resulted in value: 103560.0. Current best value is -108830.0 with parameters: {'shiki': '三連単-tflow2', 'pattern': 'order_s', 'select_num': 11}.\n"
     ]
    },
    {
     "name": "stdout",
     "output_type": "stream",
     "text": [
      "三連単 tflow2 14 order_s 143\n",
      "profit 38190.0\n"
     ]
    },
    {
     "name": "stderr",
     "output_type": "stream",
     "text": [
      "[I 2019-06-27 16:34:44,379] Finished trial#143 resulted in value: -38190.0. Current best value is -108830.0 with parameters: {'shiki': '三連単-tflow2', 'pattern': 'order_s', 'select_num': 11}.\n"
     ]
    },
    {
     "name": "stdout",
     "output_type": "stream",
     "text": [
      "普通馬複 flow 9 order_s 144\n",
      "profit -72930.0\n"
     ]
    },
    {
     "name": "stderr",
     "output_type": "stream",
     "text": [
      "[I 2019-06-27 16:34:52,613] Finished trial#144 resulted in value: 72930.0. Current best value is -108830.0 with parameters: {'shiki': '三連単-tflow2', 'pattern': 'order_s', 'select_num': 11}.\n"
     ]
    },
    {
     "name": "stdout",
     "output_type": "stream",
     "text": [
      "三連単 tflow2 13 order_s 145\n",
      "profit 82420.0\n"
     ]
    },
    {
     "name": "stderr",
     "output_type": "stream",
     "text": [
      "[I 2019-06-27 16:35:03,634] Finished trial#145 resulted in value: -82420.0. Current best value is -108830.0 with parameters: {'shiki': '三連単-tflow2', 'pattern': 'order_s', 'select_num': 11}.\n"
     ]
    },
    {
     "name": "stdout",
     "output_type": "stream",
     "text": [
      "三連単 tflow2 12 order_o 146\n",
      "profit 19620.0\n"
     ]
    },
    {
     "name": "stderr",
     "output_type": "stream",
     "text": [
      "[I 2019-06-27 16:35:13,625] Finished trial#146 resulted in value: -19620.0. Current best value is -108830.0 with parameters: {'shiki': '三連単-tflow2', 'pattern': 'order_s', 'select_num': 11}.\n"
     ]
    },
    {
     "name": "stdout",
     "output_type": "stream",
     "text": [
      "三連単 tflow2 13 eq 147\n",
      "profit 15620.0\n"
     ]
    },
    {
     "name": "stderr",
     "output_type": "stream",
     "text": [
      "[I 2019-06-27 16:35:23,944] Finished trial#147 resulted in value: -15620.0. Current best value is -108830.0 with parameters: {'shiki': '三連単-tflow2', 'pattern': 'order_s', 'select_num': 11}.\n"
     ]
    },
    {
     "name": "stdout",
     "output_type": "stream",
     "text": [
      "三連単 tflow2 14 order_s 148\n",
      "profit 38190.0\n"
     ]
    },
    {
     "name": "stderr",
     "output_type": "stream",
     "text": [
      "[I 2019-06-27 16:35:35,721] Finished trial#148 resulted in value: -38190.0. Current best value is -108830.0 with parameters: {'shiki': '三連単-tflow2', 'pattern': 'order_s', 'select_num': 11}.\n"
     ]
    },
    {
     "name": "stdout",
     "output_type": "stream",
     "text": [
      "枠複 box 4 eq 149\n",
      "profit -93270.0\n"
     ]
    },
    {
     "name": "stderr",
     "output_type": "stream",
     "text": [
      "[I 2019-06-27 16:35:41,630] Finished trial#149 resulted in value: 93270.0. Current best value is -108830.0 with parameters: {'shiki': '三連単-tflow2', 'pattern': 'order_s', 'select_num': 11}.\n"
     ]
    },
    {
     "name": "stdout",
     "output_type": "stream",
     "text": [
      "馬単 flow 12 order_s 150\n",
      "profit -51080.0\n"
     ]
    },
    {
     "name": "stderr",
     "output_type": "stream",
     "text": [
      "[I 2019-06-27 16:35:52,421] Finished trial#150 resulted in value: 51080.0. Current best value is -108830.0 with parameters: {'shiki': '三連単-tflow2', 'pattern': 'order_s', 'select_num': 11}.\n"
     ]
    },
    {
     "name": "stdout",
     "output_type": "stream",
     "text": [
      "ワイド box 2 eq 151\n",
      "profit -51240.0\n"
     ]
    },
    {
     "name": "stderr",
     "output_type": "stream",
     "text": [
      "[I 2019-06-27 16:35:54,162] Finished trial#151 resulted in value: 51240.0. Current best value is -108830.0 with parameters: {'shiki': '三連単-tflow2', 'pattern': 'order_s', 'select_num': 11}.\n"
     ]
    },
    {
     "name": "stdout",
     "output_type": "stream",
     "text": [
      "三連単 mflow1 3 eq 152\n",
      "profit -103560.0\n"
     ]
    },
    {
     "name": "stderr",
     "output_type": "stream",
     "text": [
      "[I 2019-06-27 16:36:00,218] Finished trial#152 resulted in value: 103560.0. Current best value is -108830.0 with parameters: {'shiki': '三連単-tflow2', 'pattern': 'order_s', 'select_num': 11}.\n"
     ]
    },
    {
     "name": "stdout",
     "output_type": "stream",
     "text": [
      "馬単 mbox 5 eq 153\n",
      "profit -135240.0\n"
     ]
    },
    {
     "name": "stderr",
     "output_type": "stream",
     "text": [
      "[I 2019-06-27 16:36:19,406] Finished trial#153 resulted in value: 135240.0. Current best value is -108830.0 with parameters: {'shiki': '三連単-tflow2', 'pattern': 'order_s', 'select_num': 11}.\n"
     ]
    },
    {
     "name": "stdout",
     "output_type": "stream",
     "text": [
      "枠複 flow 8 order_s 154\n",
      "profit -66520.0\n"
     ]
    },
    {
     "name": "stderr",
     "output_type": "stream",
     "text": [
      "[I 2019-06-27 16:36:26,760] Finished trial#154 resulted in value: 66520.0. Current best value is -108830.0 with parameters: {'shiki': '三連単-tflow2', 'pattern': 'order_s', 'select_num': 11}.\n"
     ]
    },
    {
     "name": "stdout",
     "output_type": "stream",
     "text": [
      "ワイド form2 11 eq 155\n",
      "profit -82750.0\n"
     ]
    },
    {
     "name": "stderr",
     "output_type": "stream",
     "text": [
      "[I 2019-06-27 16:36:44,683] Finished trial#155 resulted in value: 82750.0. Current best value is -108830.0 with parameters: {'shiki': '三連単-tflow2', 'pattern': 'order_s', 'select_num': 11}.\n"
     ]
    },
    {
     "name": "stdout",
     "output_type": "stream",
     "text": [
      "三連単 tflow2 10 eq 156\n",
      "profit 71430.0\n"
     ]
    },
    {
     "name": "stderr",
     "output_type": "stream",
     "text": [
      "[I 2019-06-27 16:36:52,427] Finished trial#156 resulted in value: -71430.0. Current best value is -108830.0 with parameters: {'shiki': '三連単-tflow2', 'pattern': 'order_s', 'select_num': 11}.\n"
     ]
    },
    {
     "name": "stdout",
     "output_type": "stream",
     "text": [
      "三連複 box 5 eq 157\n",
      "profit -80280.0\n"
     ]
    },
    {
     "name": "stderr",
     "output_type": "stream",
     "text": [
      "[I 2019-06-27 16:37:01,982] Finished trial#157 resulted in value: 80280.0. Current best value is -108830.0 with parameters: {'shiki': '三連単-tflow2', 'pattern': 'order_s', 'select_num': 11}.\n"
     ]
    },
    {
     "name": "stdout",
     "output_type": "stream",
     "text": [
      "三連単 form2t2 13 eq 158\n",
      "profit -79830.0\n"
     ]
    },
    {
     "name": "stderr",
     "output_type": "stream",
     "text": [
      "[I 2019-06-27 16:37:20,795] Finished trial#158 resulted in value: 79830.0. Current best value is -108830.0 with parameters: {'shiki': '三連単-tflow2', 'pattern': 'order_s', 'select_num': 11}.\n"
     ]
    },
    {
     "name": "stdout",
     "output_type": "stream",
     "text": [
      "普通馬複 box 7 eq 159\n",
      "profit -88140.0\n"
     ]
    },
    {
     "name": "stderr",
     "output_type": "stream",
     "text": [
      "[I 2019-06-27 16:37:39,405] Finished trial#159 resulted in value: 88140.0. Current best value is -108830.0 with parameters: {'shiki': '三連単-tflow2', 'pattern': 'order_s', 'select_num': 11}.\n"
     ]
    },
    {
     "name": "stdout",
     "output_type": "stream",
     "text": [
      "枠単 flow 8 order_s 160\n",
      "profit -52980.0\n"
     ]
    },
    {
     "name": "stderr",
     "output_type": "stream",
     "text": [
      "[I 2019-06-27 16:37:46,685] Finished trial#160 resulted in value: 52980.0. Current best value is -108830.0 with parameters: {'shiki': '三連単-tflow2', 'pattern': 'order_s', 'select_num': 11}.\n"
     ]
    },
    {
     "name": "stdout",
     "output_type": "stream",
     "text": [
      "三連単 tflow2 15 order_s 161\n",
      "profit 38190.0\n"
     ]
    },
    {
     "name": "stderr",
     "output_type": "stream",
     "text": [
      "[I 2019-06-27 16:37:59,709] Finished trial#161 resulted in value: -38190.0. Current best value is -108830.0 with parameters: {'shiki': '三連単-tflow2', 'pattern': 'order_s', 'select_num': 11}.\n"
     ]
    },
    {
     "name": "stdout",
     "output_type": "stream",
     "text": [
      "三連複 flow2 13 order_s 162\n",
      "profit -32570.0\n"
     ]
    },
    {
     "name": "stderr",
     "output_type": "stream",
     "text": [
      "[I 2019-06-27 16:38:10,643] Finished trial#162 resulted in value: 32570.0. Current best value is -108830.0 with parameters: {'shiki': '三連単-tflow2', 'pattern': 'order_s', 'select_num': 11}.\n"
     ]
    },
    {
     "name": "stdout",
     "output_type": "stream",
     "text": [
      "馬単 mflow 11 eq 163\n",
      "profit -49090.0\n"
     ]
    },
    {
     "name": "stderr",
     "output_type": "stream",
     "text": [
      "[I 2019-06-27 16:38:28,734] Finished trial#163 resulted in value: 49090.0. Current best value is -108830.0 with parameters: {'shiki': '三連単-tflow2', 'pattern': 'order_s', 'select_num': 11}.\n"
     ]
    },
    {
     "name": "stdout",
     "output_type": "stream",
     "text": [
      "三連複 flow1 7 eq 164\n",
      "profit -93170.0\n"
     ]
    },
    {
     "name": "stderr",
     "output_type": "stream",
     "text": [
      "[I 2019-06-27 16:38:42,720] Finished trial#164 resulted in value: 93170.0. Current best value is -108830.0 with parameters: {'shiki': '三連単-tflow2', 'pattern': 'order_s', 'select_num': 11}.\n"
     ]
    },
    {
     "name": "stdout",
     "output_type": "stream",
     "text": [
      "三連複 form22 12 eq 165\n",
      "profit -112220.0\n"
     ]
    },
    {
     "name": "stderr",
     "output_type": "stream",
     "text": [
      "[I 2019-06-27 16:38:59,991] Finished trial#165 resulted in value: 112220.0. Current best value is -108830.0 with parameters: {'shiki': '三連単-tflow2', 'pattern': 'order_s', 'select_num': 11}.\n"
     ]
    },
    {
     "name": "stdout",
     "output_type": "stream",
     "text": [
      "複勝 none 14 order_s 166\n",
      "profit -61120.0\n"
     ]
    },
    {
     "name": "stderr",
     "output_type": "stream",
     "text": [
      "[I 2019-06-27 16:39:13,724] Finished trial#166 resulted in value: 61120.0. Current best value is -108830.0 with parameters: {'shiki': '三連単-tflow2', 'pattern': 'order_s', 'select_num': 11}.\n"
     ]
    },
    {
     "name": "stdout",
     "output_type": "stream",
     "text": [
      "ワイド flow 10 order_s 167\n",
      "profit -56930.0\n"
     ]
    },
    {
     "name": "stderr",
     "output_type": "stream",
     "text": [
      "[I 2019-06-27 16:39:22,985] Finished trial#167 resulted in value: 56930.0. Current best value is -108830.0 with parameters: {'shiki': '三連単-tflow2', 'pattern': 'order_s', 'select_num': 11}.\n"
     ]
    },
    {
     "name": "stdout",
     "output_type": "stream",
     "text": [
      "三連単 mbox 3 eq 168\n",
      "profit -103560.0\n"
     ]
    },
    {
     "name": "stderr",
     "output_type": "stream",
     "text": [
      "[I 2019-06-27 16:39:29,279] Finished trial#168 resulted in value: 103560.0. Current best value is -108830.0 with parameters: {'shiki': '三連単-tflow2', 'pattern': 'order_s', 'select_num': 11}.\n"
     ]
    },
    {
     "name": "stdout",
     "output_type": "stream",
     "text": [
      "三連複 form21 6 eq 169\n",
      "profit -109530.0\n"
     ]
    },
    {
     "name": "stderr",
     "output_type": "stream",
     "text": [
      "[I 2019-06-27 16:39:44,055] Finished trial#169 resulted in value: 109530.0. Current best value is -108830.0 with parameters: {'shiki': '三連単-tflow2', 'pattern': 'order_s', 'select_num': 11}.\n"
     ]
    },
    {
     "name": "stdout",
     "output_type": "stream",
     "text": [
      "枠複 form2 4 eq 170\n",
      "profit -62950.0\n"
     ]
    },
    {
     "name": "stderr",
     "output_type": "stream",
     "text": [
      "[I 2019-06-27 16:39:50,069] Finished trial#170 resulted in value: 62950.0. Current best value is -108830.0 with parameters: {'shiki': '三連単-tflow2', 'pattern': 'order_s', 'select_num': 11}.\n"
     ]
    },
    {
     "name": "stdout",
     "output_type": "stream",
     "text": [
      "単勝 none 1 order_s 171\n",
      "profit -54810.0\n"
     ]
    },
    {
     "name": "stderr",
     "output_type": "stream",
     "text": [
      "[I 2019-06-27 16:39:52,300] Finished trial#171 resulted in value: 54810.0. Current best value is -108830.0 with parameters: {'shiki': '三連単-tflow2', 'pattern': 'order_s', 'select_num': 11}.\n"
     ]
    },
    {
     "name": "stdout",
     "output_type": "stream",
     "text": [
      "三連単 tflow2 16 order_s 172\n",
      "profit 57030.0\n"
     ]
    },
    {
     "name": "stderr",
     "output_type": "stream",
     "text": [
      "[I 2019-06-27 16:40:05,077] Finished trial#172 resulted in value: -57030.0. Current best value is -108830.0 with parameters: {'shiki': '三連単-tflow2', 'pattern': 'order_s', 'select_num': 11}.\n"
     ]
    },
    {
     "name": "stdout",
     "output_type": "stream",
     "text": [
      "三連単 form2t1 4 eq 173\n",
      "profit -142020.0\n"
     ]
    },
    {
     "name": "stderr",
     "output_type": "stream",
     "text": [
      "[I 2019-06-27 16:40:13,057] Finished trial#173 resulted in value: 142020.0. Current best value is -108830.0 with parameters: {'shiki': '三連単-tflow2', 'pattern': 'order_s', 'select_num': 11}.\n"
     ]
    },
    {
     "name": "stdout",
     "output_type": "stream",
     "text": [
      "枠単 mbox 2 eq 174\n",
      "profit -6750.0\n"
     ]
    },
    {
     "name": "stderr",
     "output_type": "stream",
     "text": [
      "[I 2019-06-27 16:40:15,710] Finished trial#174 resulted in value: 6750.0. Current best value is -108830.0 with parameters: {'shiki': '三連単-tflow2', 'pattern': 'order_s', 'select_num': 11}.\n"
     ]
    },
    {
     "name": "stdout",
     "output_type": "stream",
     "text": [
      "三連単 tflow2 15 order_s 175\n",
      "profit 38190.0\n"
     ]
    },
    {
     "name": "stderr",
     "output_type": "stream",
     "text": [
      "[I 2019-06-27 16:40:28,072] Finished trial#175 resulted in value: -38190.0. Current best value is -108830.0 with parameters: {'shiki': '三連単-tflow2', 'pattern': 'order_s', 'select_num': 11}.\n"
     ]
    },
    {
     "name": "stdout",
     "output_type": "stream",
     "text": [
      "三連単 mflow2 5 eq 176\n",
      "profit -90900.0\n"
     ]
    },
    {
     "name": "stderr",
     "output_type": "stream",
     "text": [
      "[I 2019-06-27 16:40:44,724] Finished trial#176 resulted in value: 90900.0. Current best value is -108830.0 with parameters: {'shiki': '三連単-tflow2', 'pattern': 'order_s', 'select_num': 11}.\n"
     ]
    },
    {
     "name": "stdout",
     "output_type": "stream",
     "text": [
      "三連単 tflow1 6 eq 177\n",
      "profit -162640.0\n"
     ]
    },
    {
     "name": "stderr",
     "output_type": "stream",
     "text": [
      "[I 2019-06-27 16:41:03,249] Finished trial#177 resulted in value: 162640.0. Current best value is -108830.0 with parameters: {'shiki': '三連単-tflow2', 'pattern': 'order_s', 'select_num': 11}.\n"
     ]
    },
    {
     "name": "stdout",
     "output_type": "stream",
     "text": [
      "普通馬複 form2 11 eq 178\n",
      "profit -104490.0\n"
     ]
    },
    {
     "name": "stderr",
     "output_type": "stream",
     "text": [
      "[I 2019-06-27 16:41:21,387] Finished trial#178 resulted in value: 104490.0. Current best value is -108830.0 with parameters: {'shiki': '三連単-tflow2', 'pattern': 'order_s', 'select_num': 11}.\n"
     ]
    },
    {
     "name": "stdout",
     "output_type": "stream",
     "text": [
      "枠単 mflow 7 eq 179\n",
      "profit -70510.0\n"
     ]
    },
    {
     "name": "stderr",
     "output_type": "stream",
     "text": [
      "[I 2019-06-27 16:41:33,317] Finished trial#179 resulted in value: 70510.0. Current best value is -108830.0 with parameters: {'shiki': '三連単-tflow2', 'pattern': 'order_s', 'select_num': 11}.\n"
     ]
    },
    {
     "name": "stdout",
     "output_type": "stream",
     "text": [
      "三連単 tflow2 12 order_s 180\n",
      "profit 97600.0\n"
     ]
    },
    {
     "name": "stderr",
     "output_type": "stream",
     "text": [
      "[I 2019-06-27 16:41:43,237] Finished trial#180 resulted in value: -97600.0. Current best value is -108830.0 with parameters: {'shiki': '三連単-tflow2', 'pattern': 'order_s', 'select_num': 11}.\n"
     ]
    },
    {
     "name": "stdout",
     "output_type": "stream",
     "text": [
      "枠複 box 6 eq 181\n",
      "profit -102870.0\n"
     ]
    },
    {
     "name": "stderr",
     "output_type": "stream",
     "text": [
      "[I 2019-06-27 16:41:57,089] Finished trial#181 resulted in value: 102870.0. Current best value is -108830.0 with parameters: {'shiki': '三連単-tflow2', 'pattern': 'order_s', 'select_num': 11}.\n"
     ]
    },
    {
     "name": "stdout",
     "output_type": "stream",
     "text": [
      "普通馬複 flow 9 order_o 182\n",
      "profit -76640.0\n"
     ]
    },
    {
     "name": "stderr",
     "output_type": "stream",
     "text": [
      "[I 2019-06-27 16:42:05,343] Finished trial#182 resulted in value: 76640.0. Current best value is -108830.0 with parameters: {'shiki': '三連単-tflow2', 'pattern': 'order_s', 'select_num': 11}.\n"
     ]
    },
    {
     "name": "stdout",
     "output_type": "stream",
     "text": [
      "馬単 flow 12 order_s 183\n",
      "profit -51080.0\n"
     ]
    },
    {
     "name": "stderr",
     "output_type": "stream",
     "text": [
      "[I 2019-06-27 16:42:16,025] Finished trial#183 resulted in value: 51080.0. Current best value is -108830.0 with parameters: {'shiki': '三連単-tflow2', 'pattern': 'order_s', 'select_num': 11}.\n"
     ]
    },
    {
     "name": "stdout",
     "output_type": "stream",
     "text": [
      "ワイド box 2 eq 184\n",
      "profit -51240.0\n"
     ]
    },
    {
     "name": "stderr",
     "output_type": "stream",
     "text": [
      "[I 2019-06-27 16:42:17,753] Finished trial#184 resulted in value: 51240.0. Current best value is -108830.0 with parameters: {'shiki': '三連単-tflow2', 'pattern': 'order_s', 'select_num': 11}.\n"
     ]
    },
    {
     "name": "stdout",
     "output_type": "stream",
     "text": [
      "三連単 tflow2 10 order_s 185\n",
      "profit 81630.0\n"
     ]
    },
    {
     "name": "stderr",
     "output_type": "stream",
     "text": [
      "[I 2019-06-27 16:42:25,924] Finished trial#185 resulted in value: -81630.0. Current best value is -108830.0 with parameters: {'shiki': '三連単-tflow2', 'pattern': 'order_s', 'select_num': 11}.\n"
     ]
    },
    {
     "name": "stdout",
     "output_type": "stream",
     "text": [
      "馬単 mbox 3 eq 186\n",
      "profit -43680.0\n"
     ]
    },
    {
     "name": "stderr",
     "output_type": "stream",
     "text": [
      "[I 2019-06-27 16:42:32,001] Finished trial#186 resulted in value: 43680.0. Current best value is -108830.0 with parameters: {'shiki': '三連単-tflow2', 'pattern': 'order_s', 'select_num': 11}.\n"
     ]
    },
    {
     "name": "stdout",
     "output_type": "stream",
     "text": [
      "三連単 mflow1 4 eq 187\n",
      "profit -148330.0\n"
     ]
    },
    {
     "name": "stderr",
     "output_type": "stream",
     "text": [
      "[I 2019-06-27 16:42:43,395] Finished trial#187 resulted in value: 148330.0. Current best value is -108830.0 with parameters: {'shiki': '三連単-tflow2', 'pattern': 'order_s', 'select_num': 11}.\n"
     ]
    },
    {
     "name": "stdout",
     "output_type": "stream",
     "text": [
      "ワイド form2 11 eq 188\n",
      "profit -82750.0\n"
     ]
    },
    {
     "name": "stderr",
     "output_type": "stream",
     "text": [
      "[I 2019-06-27 16:43:02,262] Finished trial#188 resulted in value: 82750.0. Current best value is -108830.0 with parameters: {'shiki': '三連単-tflow2', 'pattern': 'order_s', 'select_num': 11}.\n"
     ]
    },
    {
     "name": "stdout",
     "output_type": "stream",
     "text": [
      "三連単 tflow2 12 order_s 189\n",
      "profit 97600.0\n"
     ]
    },
    {
     "name": "stderr",
     "output_type": "stream",
     "text": [
      "[I 2019-06-27 16:43:12,303] Finished trial#189 resulted in value: -97600.0. Current best value is -108830.0 with parameters: {'shiki': '三連単-tflow2', 'pattern': 'order_s', 'select_num': 11}.\n"
     ]
    },
    {
     "name": "stdout",
     "output_type": "stream",
     "text": [
      "枠複 flow 8 order_s 190\n",
      "profit -66520.0\n"
     ]
    },
    {
     "name": "stderr",
     "output_type": "stream",
     "text": [
      "[I 2019-06-27 16:43:19,514] Finished trial#190 resulted in value: 66520.0. Current best value is -108830.0 with parameters: {'shiki': '三連単-tflow2', 'pattern': 'order_s', 'select_num': 11}.\n"
     ]
    },
    {
     "name": "stdout",
     "output_type": "stream",
     "text": [
      "三連複 box 5 eq 191\n",
      "profit -80280.0\n"
     ]
    },
    {
     "name": "stderr",
     "output_type": "stream",
     "text": [
      "[I 2019-06-27 16:43:28,969] Finished trial#191 resulted in value: 80280.0. Current best value is -108830.0 with parameters: {'shiki': '三連単-tflow2', 'pattern': 'order_s', 'select_num': 11}.\n"
     ]
    },
    {
     "name": "stdout",
     "output_type": "stream",
     "text": [
      "枠単 flow 8 eq 192\n",
      "profit -67080.0\n"
     ]
    },
    {
     "name": "stderr",
     "output_type": "stream",
     "text": [
      "[I 2019-06-27 16:43:35,981] Finished trial#192 resulted in value: 67080.0. Current best value is -108830.0 with parameters: {'shiki': '三連単-tflow2', 'pattern': 'order_s', 'select_num': 11}.\n"
     ]
    },
    {
     "name": "stdout",
     "output_type": "stream",
     "text": [
      "三連単 form2t2 12 eq 193\n",
      "profit -68600.0\n"
     ]
    },
    {
     "name": "stderr",
     "output_type": "stream",
     "text": [
      "[I 2019-06-27 16:43:53,247] Finished trial#193 resulted in value: 68600.0. Current best value is -108830.0 with parameters: {'shiki': '三連単-tflow2', 'pattern': 'order_s', 'select_num': 11}.\n"
     ]
    },
    {
     "name": "stdout",
     "output_type": "stream",
     "text": [
      "三連複 flow1 7 eq 194\n",
      "profit -93170.0\n"
     ]
    },
    {
     "name": "stderr",
     "output_type": "stream",
     "text": [
      "[I 2019-06-27 16:44:07,129] Finished trial#194 resulted in value: 93170.0. Current best value is -108830.0 with parameters: {'shiki': '三連単-tflow2', 'pattern': 'order_s', 'select_num': 11}.\n"
     ]
    },
    {
     "name": "stdout",
     "output_type": "stream",
     "text": [
      "普通馬複 box 6 eq 195\n",
      "profit -115790.0\n"
     ]
    },
    {
     "name": "stderr",
     "output_type": "stream",
     "text": [
      "[I 2019-06-27 16:44:20,740] Finished trial#195 resulted in value: 115790.0. Current best value is -108830.0 with parameters: {'shiki': '三連単-tflow2', 'pattern': 'order_s', 'select_num': 11}.\n"
     ]
    },
    {
     "name": "stdout",
     "output_type": "stream",
     "text": [
      "三連単 tflow2 13 order_o 196\n",
      "profit 72290.0\n"
     ]
    },
    {
     "name": "stderr",
     "output_type": "stream",
     "text": [
      "[I 2019-06-27 16:44:31,655] Finished trial#196 resulted in value: -72290.0. Current best value is -108830.0 with parameters: {'shiki': '三連単-tflow2', 'pattern': 'order_s', 'select_num': 11}.\n"
     ]
    },
    {
     "name": "stdout",
     "output_type": "stream",
     "text": [
      "三連複 flow2 14 order_s 197\n",
      "profit -52160.0\n"
     ]
    },
    {
     "name": "stderr",
     "output_type": "stream",
     "text": [
      "[I 2019-06-27 16:44:43,302] Finished trial#197 resulted in value: 52160.0. Current best value is -108830.0 with parameters: {'shiki': '三連単-tflow2', 'pattern': 'order_s', 'select_num': 11}.\n"
     ]
    },
    {
     "name": "stdout",
     "output_type": "stream",
     "text": [
      "馬単 mflow 11 eq 198\n",
      "profit -49090.0\n"
     ]
    },
    {
     "name": "stderr",
     "output_type": "stream",
     "text": [
      "[I 2019-06-27 16:45:01,363] Finished trial#198 resulted in value: 49090.0. Current best value is -108830.0 with parameters: {'shiki': '三連単-tflow2', 'pattern': 'order_s', 'select_num': 11}.\n"
     ]
    },
    {
     "name": "stdout",
     "output_type": "stream",
     "text": [
      "ワイド flow 10 order_s 199\n",
      "profit -56930.0\n"
     ]
    },
    {
     "name": "stderr",
     "output_type": "stream",
     "text": [
      "[I 2019-06-27 16:45:10,428] Finished trial#199 resulted in value: 56930.0. Current best value is -108830.0 with parameters: {'shiki': '三連単-tflow2', 'pattern': 'order_s', 'select_num': 11}.\n"
     ]
    },
    {
     "name": "stdout",
     "output_type": "stream",
     "text": [
      "三連複 form22 12 eq 200\n",
      "profit -112220.0\n"
     ]
    },
    {
     "name": "stderr",
     "output_type": "stream",
     "text": [
      "[I 2019-06-27 16:45:27,555] Finished trial#200 resulted in value: 112220.0. Current best value is -108830.0 with parameters: {'shiki': '三連単-tflow2', 'pattern': 'order_s', 'select_num': 11}.\n"
     ]
    },
    {
     "name": "stdout",
     "output_type": "stream",
     "text": [
      "複勝 none 9 order_s 201\n",
      "profit -69960.0\n"
     ]
    },
    {
     "name": "stderr",
     "output_type": "stream",
     "text": [
      "[I 2019-06-27 16:45:36,852] Finished trial#201 resulted in value: 69960.0. Current best value is -108830.0 with parameters: {'shiki': '三連単-tflow2', 'pattern': 'order_s', 'select_num': 11}.\n"
     ]
    },
    {
     "name": "stdout",
     "output_type": "stream",
     "text": [
      "三連単 mbox 3 eq 202\n",
      "profit -103560.0\n"
     ]
    },
    {
     "name": "stderr",
     "output_type": "stream",
     "text": [
      "[I 2019-06-27 16:45:42,757] Finished trial#202 resulted in value: 103560.0. Current best value is -108830.0 with parameters: {'shiki': '三連単-tflow2', 'pattern': 'order_s', 'select_num': 11}.\n"
     ]
    },
    {
     "name": "stdout",
     "output_type": "stream",
     "text": [
      "枠単 mbox 2 eq 203\n",
      "profit -6750.0\n"
     ]
    },
    {
     "name": "stderr",
     "output_type": "stream",
     "text": [
      "[I 2019-06-27 16:45:45,263] Finished trial#203 resulted in value: 6750.0. Current best value is -108830.0 with parameters: {'shiki': '三連単-tflow2', 'pattern': 'order_s', 'select_num': 11}.\n"
     ]
    },
    {
     "name": "stdout",
     "output_type": "stream",
     "text": [
      "三連単 tflow2 13 eq 204\n",
      "profit 15620.0\n"
     ]
    },
    {
     "name": "stderr",
     "output_type": "stream",
     "text": [
      "[I 2019-06-27 16:45:55,816] Finished trial#204 resulted in value: -15620.0. Current best value is -108830.0 with parameters: {'shiki': '三連単-tflow2', 'pattern': 'order_s', 'select_num': 11}.\n"
     ]
    },
    {
     "name": "stdout",
     "output_type": "stream",
     "text": [
      "三連複 form21 5 eq 205\n",
      "profit -75630.0\n"
     ]
    },
    {
     "name": "stderr",
     "output_type": "stream",
     "text": [
      "[I 2019-06-27 16:46:04,540] Finished trial#205 resulted in value: 75630.0. Current best value is -108830.0 with parameters: {'shiki': '三連単-tflow2', 'pattern': 'order_s', 'select_num': 11}.\n"
     ]
    },
    {
     "name": "stdout",
     "output_type": "stream",
     "text": [
      "枠複 form2 8 eq 206\n",
      "profit -90400.0\n"
     ]
    },
    {
     "name": "stderr",
     "output_type": "stream",
     "text": [
      "[I 2019-06-27 16:46:17,159] Finished trial#206 resulted in value: 90400.0. Current best value is -108830.0 with parameters: {'shiki': '三連単-tflow2', 'pattern': 'order_s', 'select_num': 11}.\n"
     ]
    },
    {
     "name": "stdout",
     "output_type": "stream",
     "text": [
      "三連単 tflow2 14 order_s 207\n",
      "profit 38190.0\n"
     ]
    },
    {
     "name": "stderr",
     "output_type": "stream",
     "text": [
      "[I 2019-06-27 16:46:28,574] Finished trial#207 resulted in value: -38190.0. Current best value is -108830.0 with parameters: {'shiki': '三連単-tflow2', 'pattern': 'order_s', 'select_num': 11}.\n"
     ]
    },
    {
     "name": "stdout",
     "output_type": "stream",
     "text": [
      "枠単 mflow 7 eq 208\n",
      "profit -70510.0\n"
     ]
    },
    {
     "name": "stderr",
     "output_type": "stream",
     "text": [
      "[I 2019-06-27 16:46:40,429] Finished trial#208 resulted in value: 70510.0. Current best value is -108830.0 with parameters: {'shiki': '三連単-tflow2', 'pattern': 'order_s', 'select_num': 11}.\n"
     ]
    },
    {
     "name": "stdout",
     "output_type": "stream",
     "text": [
      "三連単 mflow2 4 eq 209\n",
      "profit -46500.0\n"
     ]
    },
    {
     "name": "stderr",
     "output_type": "stream",
     "text": [
      "[I 2019-06-27 16:46:51,877] Finished trial#209 resulted in value: 46500.0. Current best value is -108830.0 with parameters: {'shiki': '三連単-tflow2', 'pattern': 'order_s', 'select_num': 11}.\n"
     ]
    },
    {
     "name": "stdout",
     "output_type": "stream",
     "text": [
      "単勝 none 15 order_o 210\n",
      "profit -82180.0\n"
     ]
    },
    {
     "name": "stderr",
     "output_type": "stream",
     "text": [
      "[I 2019-06-27 16:47:06,412] Finished trial#210 resulted in value: 82180.0. Current best value is -108830.0 with parameters: {'shiki': '三連単-tflow2', 'pattern': 'order_s', 'select_num': 11}.\n"
     ]
    },
    {
     "name": "stdout",
     "output_type": "stream",
     "text": [
      "三連単 form2t1 4 eq 211\n",
      "profit -142020.0\n"
     ]
    },
    {
     "name": "stderr",
     "output_type": "stream",
     "text": [
      "[I 2019-06-27 16:47:14,291] Finished trial#211 resulted in value: 142020.0. Current best value is -108830.0 with parameters: {'shiki': '三連単-tflow2', 'pattern': 'order_s', 'select_num': 11}.\n"
     ]
    },
    {
     "name": "stdout",
     "output_type": "stream",
     "text": [
      "三連単 tflow1 6 eq 212\n",
      "profit -162640.0\n"
     ]
    },
    {
     "name": "stderr",
     "output_type": "stream",
     "text": [
      "[I 2019-06-27 16:47:32,450] Finished trial#212 resulted in value: 162640.0. Current best value is -108830.0 with parameters: {'shiki': '三連単-tflow2', 'pattern': 'order_s', 'select_num': 11}.\n"
     ]
    },
    {
     "name": "stdout",
     "output_type": "stream",
     "text": [
      "普通馬複 form2 11 eq 213\n",
      "profit -104490.0\n"
     ]
    },
    {
     "name": "stderr",
     "output_type": "stream",
     "text": [
      "[I 2019-06-27 16:47:50,305] Finished trial#213 resulted in value: 104490.0. Current best value is -108830.0 with parameters: {'shiki': '三連単-tflow2', 'pattern': 'order_s', 'select_num': 11}.\n"
     ]
    },
    {
     "name": "stdout",
     "output_type": "stream",
     "text": [
      "三連単 tflow2 9 order_s 214\n",
      "profit 77740.0\n"
     ]
    },
    {
     "name": "stderr",
     "output_type": "stream",
     "text": [
      "[I 2019-06-27 16:47:57,772] Finished trial#214 resulted in value: -77740.0. Current best value is -108830.0 with parameters: {'shiki': '三連単-tflow2', 'pattern': 'order_s', 'select_num': 11}.\n"
     ]
    },
    {
     "name": "stdout",
     "output_type": "stream",
     "text": [
      "普通馬複 flow 10 order_s 215\n",
      "profit -58060.0\n"
     ]
    },
    {
     "name": "stderr",
     "output_type": "stream",
     "text": [
      "[I 2019-06-27 16:48:06,710] Finished trial#215 resulted in value: 58060.0. Current best value is -108830.0 with parameters: {'shiki': '三連単-tflow2', 'pattern': 'order_s', 'select_num': 11}.\n"
     ]
    },
    {
     "name": "stdout",
     "output_type": "stream",
     "text": [
      "枠複 box 7 eq 216\n",
      "profit -119300.0\n"
     ]
    },
    {
     "name": "stderr",
     "output_type": "stream",
     "text": [
      "[I 2019-06-27 16:48:26,237] Finished trial#216 resulted in value: 119300.0. Current best value is -108830.0 with parameters: {'shiki': '三連単-tflow2', 'pattern': 'order_s', 'select_num': 11}.\n"
     ]
    },
    {
     "name": "stdout",
     "output_type": "stream",
     "text": [
      "ワイド box 2 eq 217\n",
      "profit -51240.0\n"
     ]
    },
    {
     "name": "stderr",
     "output_type": "stream",
     "text": [
      "[I 2019-06-27 16:48:28,020] Finished trial#217 resulted in value: 51240.0. Current best value is -108830.0 with parameters: {'shiki': '三連単-tflow2', 'pattern': 'order_s', 'select_num': 11}.\n"
     ]
    },
    {
     "name": "stdout",
     "output_type": "stream",
     "text": [
      "馬単 flow 12 order_s 218\n",
      "profit -51080.0\n"
     ]
    },
    {
     "name": "stderr",
     "output_type": "stream",
     "text": [
      "[I 2019-06-27 16:48:38,797] Finished trial#218 resulted in value: 51080.0. Current best value is -108830.0 with parameters: {'shiki': '三連単-tflow2', 'pattern': 'order_s', 'select_num': 11}.\n"
     ]
    },
    {
     "name": "stdout",
     "output_type": "stream",
     "text": [
      "三連単 tflow2 13 eq 219\n",
      "profit 15620.0\n"
     ]
    },
    {
     "name": "stderr",
     "output_type": "stream",
     "text": [
      "[I 2019-06-27 16:48:49,175] Finished trial#219 resulted in value: -15620.0. Current best value is -108830.0 with parameters: {'shiki': '三連単-tflow2', 'pattern': 'order_s', 'select_num': 11}.\n"
     ]
    },
    {
     "name": "stdout",
     "output_type": "stream",
     "text": [
      "馬単 mbox 5 eq 220\n",
      "profit -135240.0\n"
     ]
    },
    {
     "name": "stderr",
     "output_type": "stream",
     "text": [
      "[I 2019-06-27 16:49:07,367] Finished trial#220 resulted in value: 135240.0. Current best value is -108830.0 with parameters: {'shiki': '三連単-tflow2', 'pattern': 'order_s', 'select_num': 11}.\n"
     ]
    },
    {
     "name": "stdout",
     "output_type": "stream",
     "text": [
      "三連単 mflow1 3 eq 221\n",
      "profit -103560.0\n"
     ]
    },
    {
     "name": "stderr",
     "output_type": "stream",
     "text": [
      "[I 2019-06-27 16:49:13,314] Finished trial#221 resulted in value: 103560.0. Current best value is -108830.0 with parameters: {'shiki': '三連単-tflow2', 'pattern': 'order_s', 'select_num': 11}.\n"
     ]
    },
    {
     "name": "stdout",
     "output_type": "stream",
     "text": [
      "枠複 flow 8 order_o 222\n",
      "profit -65930.0\n"
     ]
    },
    {
     "name": "stderr",
     "output_type": "stream",
     "text": [
      "[I 2019-06-27 16:49:20,816] Finished trial#222 resulted in value: 65930.0. Current best value is -108830.0 with parameters: {'shiki': '三連単-tflow2', 'pattern': 'order_s', 'select_num': 11}.\n"
     ]
    },
    {
     "name": "stdout",
     "output_type": "stream",
     "text": [
      "三連単 form2t2 12 eq 223\n",
      "profit -68600.0\n"
     ]
    },
    {
     "name": "stderr",
     "output_type": "stream",
     "text": [
      "[I 2019-06-27 16:49:37,942] Finished trial#223 resulted in value: 68600.0. Current best value is -108830.0 with parameters: {'shiki': '三連単-tflow2', 'pattern': 'order_s', 'select_num': 11}.\n"
     ]
    },
    {
     "name": "stdout",
     "output_type": "stream",
     "text": [
      "三連複 box 6 eq 224\n",
      "profit -116250.0\n"
     ]
    },
    {
     "name": "stderr",
     "output_type": "stream",
     "text": [
      "[I 2019-06-27 16:49:55,931] Finished trial#224 resulted in value: 116250.0. Current best value is -108830.0 with parameters: {'shiki': '三連単-tflow2', 'pattern': 'order_s', 'select_num': 11}.\n"
     ]
    },
    {
     "name": "stdout",
     "output_type": "stream",
     "text": [
      "ワイド form2 11 eq 225\n",
      "profit -82750.0\n"
     ]
    },
    {
     "name": "stderr",
     "output_type": "stream",
     "text": [
      "[I 2019-06-27 16:50:13,779] Finished trial#225 resulted in value: 82750.0. Current best value is -108830.0 with parameters: {'shiki': '三連単-tflow2', 'pattern': 'order_s', 'select_num': 11}.\n"
     ]
    },
    {
     "name": "stdout",
     "output_type": "stream",
     "text": [
      "枠単 flow 8 order_s 226\n",
      "profit -52980.0\n"
     ]
    },
    {
     "name": "stderr",
     "output_type": "stream",
     "text": [
      "[I 2019-06-27 16:50:21,121] Finished trial#226 resulted in value: 52980.0. Current best value is -108830.0 with parameters: {'shiki': '三連単-tflow2', 'pattern': 'order_s', 'select_num': 11}.\n"
     ]
    },
    {
     "name": "stdout",
     "output_type": "stream",
     "text": [
      "普通馬複 box 7 eq 227\n",
      "profit -88140.0\n"
     ]
    },
    {
     "name": "stderr",
     "output_type": "stream",
     "text": [
      "[I 2019-06-27 16:50:39,566] Finished trial#227 resulted in value: 88140.0. Current best value is -108830.0 with parameters: {'shiki': '三連単-tflow2', 'pattern': 'order_s', 'select_num': 11}.\n"
     ]
    },
    {
     "name": "stdout",
     "output_type": "stream",
     "text": [
      "三連単 tflow2 14 order_s 228\n",
      "profit 38190.0\n"
     ]
    },
    {
     "name": "stderr",
     "output_type": "stream",
     "text": [
      "[I 2019-06-27 16:50:50,913] Finished trial#228 resulted in value: -38190.0. Current best value is -108830.0 with parameters: {'shiki': '三連単-tflow2', 'pattern': 'order_s', 'select_num': 11}.\n"
     ]
    },
    {
     "name": "stdout",
     "output_type": "stream",
     "text": [
      "三連複 flow2 13 order_s 229\n",
      "profit -32570.0\n"
     ]
    },
    {
     "name": "stderr",
     "output_type": "stream",
     "text": [
      "[I 2019-06-27 16:51:01,688] Finished trial#229 resulted in value: 32570.0. Current best value is -108830.0 with parameters: {'shiki': '三連単-tflow2', 'pattern': 'order_s', 'select_num': 11}.\n"
     ]
    },
    {
     "name": "stdout",
     "output_type": "stream",
     "text": [
      "三連複 flow1 7 eq 230\n",
      "profit -93170.0\n"
     ]
    },
    {
     "name": "stderr",
     "output_type": "stream",
     "text": [
      "[I 2019-06-27 16:51:15,725] Finished trial#230 resulted in value: 93170.0. Current best value is -108830.0 with parameters: {'shiki': '三連単-tflow2', 'pattern': 'order_s', 'select_num': 11}.\n"
     ]
    },
    {
     "name": "stdout",
     "output_type": "stream",
     "text": [
      "三連複 form22 12 eq 231\n",
      "profit -112220.0\n"
     ]
    },
    {
     "name": "stderr",
     "output_type": "stream",
     "text": [
      "[I 2019-06-27 16:51:32,831] Finished trial#231 resulted in value: 112220.0. Current best value is -108830.0 with parameters: {'shiki': '三連単-tflow2', 'pattern': 'order_s', 'select_num': 11}.\n"
     ]
    },
    {
     "name": "stdout",
     "output_type": "stream",
     "text": [
      "三連単 tflow2 10 order_s 232\n",
      "profit 81630.0\n"
     ]
    },
    {
     "name": "stderr",
     "output_type": "stream",
     "text": [
      "[I 2019-06-27 16:51:41,142] Finished trial#232 resulted in value: -81630.0. Current best value is -108830.0 with parameters: {'shiki': '三連単-tflow2', 'pattern': 'order_s', 'select_num': 11}.\n"
     ]
    },
    {
     "name": "stdout",
     "output_type": "stream",
     "text": [
      "馬単 mflow 11 eq 233\n",
      "profit -49090.0\n"
     ]
    },
    {
     "name": "stderr",
     "output_type": "stream",
     "text": [
      "[I 2019-06-27 16:52:00,160] Finished trial#233 resulted in value: 49090.0. Current best value is -108830.0 with parameters: {'shiki': '三連単-tflow2', 'pattern': 'order_s', 'select_num': 11}.\n"
     ]
    },
    {
     "name": "stdout",
     "output_type": "stream",
     "text": [
      "ワイド flow 16 eq 234\n",
      "profit -72680.0\n"
     ]
    },
    {
     "name": "stderr",
     "output_type": "stream",
     "text": [
      "[I 2019-06-27 16:52:13,748] Finished trial#234 resulted in value: 72680.0. Current best value is -108830.0 with parameters: {'shiki': '三連単-tflow2', 'pattern': 'order_s', 'select_num': 11}.\n"
     ]
    },
    {
     "name": "stdout",
     "output_type": "stream",
     "text": [
      "複勝 none 15 order_o 235\n",
      "profit -67910.0\n"
     ]
    },
    {
     "name": "stderr",
     "output_type": "stream",
     "text": [
      "[I 2019-06-27 16:52:28,213] Finished trial#235 resulted in value: 67910.0. Current best value is -108830.0 with parameters: {'shiki': '三連単-tflow2', 'pattern': 'order_s', 'select_num': 11}.\n"
     ]
    },
    {
     "name": "stdout",
     "output_type": "stream",
     "text": [
      "三連単 mbox 3 eq 236\n",
      "profit -103560.0\n"
     ]
    },
    {
     "name": "stderr",
     "output_type": "stream",
     "text": [
      "[I 2019-06-27 16:52:34,404] Finished trial#236 resulted in value: 103560.0. Current best value is -108830.0 with parameters: {'shiki': '三連単-tflow2', 'pattern': 'order_s', 'select_num': 11}.\n"
     ]
    },
    {
     "name": "stdout",
     "output_type": "stream",
     "text": [
      "三連複 form21 6 eq 237\n",
      "profit -109530.0\n"
     ]
    },
    {
     "name": "stderr",
     "output_type": "stream",
     "text": [
      "[I 2019-06-27 16:52:49,235] Finished trial#237 resulted in value: 109530.0. Current best value is -108830.0 with parameters: {'shiki': '三連単-tflow2', 'pattern': 'order_s', 'select_num': 11}.\n"
     ]
    },
    {
     "name": "stdout",
     "output_type": "stream",
     "text": [
      "枠複 form2 8 eq 238\n",
      "profit -90400.0\n"
     ]
    },
    {
     "name": "stderr",
     "output_type": "stream",
     "text": [
      "[I 2019-06-27 16:53:02,341] Finished trial#238 resulted in value: 90400.0. Current best value is -108830.0 with parameters: {'shiki': '三連単-tflow2', 'pattern': 'order_s', 'select_num': 11}.\n"
     ]
    },
    {
     "name": "stdout",
     "output_type": "stream",
     "text": [
      "枠単 mbox 4 eq 239\n",
      "profit -98810.0\n"
     ]
    },
    {
     "name": "stderr",
     "output_type": "stream",
     "text": [
      "[I 2019-06-27 16:53:13,663] Finished trial#239 resulted in value: 98810.0. Current best value is -108830.0 with parameters: {'shiki': '三連単-tflow2', 'pattern': 'order_s', 'select_num': 11}.\n"
     ]
    },
    {
     "name": "stdout",
     "output_type": "stream",
     "text": [
      "単勝 none 14 order_s 240\n",
      "profit -71000.0\n"
     ]
    },
    {
     "name": "stderr",
     "output_type": "stream",
     "text": [
      "[I 2019-06-27 16:53:28,011] Finished trial#240 resulted in value: 71000.0. Current best value is -108830.0 with parameters: {'shiki': '三連単-tflow2', 'pattern': 'order_s', 'select_num': 11}.\n"
     ]
    },
    {
     "name": "stdout",
     "output_type": "stream",
     "text": [
      "三連単 tflow2 13 order_s 241\n",
      "profit 82420.0\n"
     ]
    },
    {
     "name": "stderr",
     "output_type": "stream",
     "text": [
      "[I 2019-06-27 16:53:38,964] Finished trial#241 resulted in value: -82420.0. Current best value is -108830.0 with parameters: {'shiki': '三連単-tflow2', 'pattern': 'order_s', 'select_num': 11}.\n"
     ]
    },
    {
     "name": "stdout",
     "output_type": "stream",
     "text": [
      "三連単 mflow2 5 eq 242\n",
      "profit -90900.0\n"
     ]
    },
    {
     "name": "stderr",
     "output_type": "stream",
     "text": [
      "[I 2019-06-27 16:53:55,463] Finished trial#242 resulted in value: 90900.0. Current best value is -108830.0 with parameters: {'shiki': '三連単-tflow2', 'pattern': 'order_s', 'select_num': 11}.\n"
     ]
    },
    {
     "name": "stdout",
     "output_type": "stream",
     "text": [
      "三連単 tflow1 6 eq 243\n",
      "profit -162640.0\n"
     ]
    },
    {
     "name": "stderr",
     "output_type": "stream",
     "text": [
      "[I 2019-06-27 16:54:13,853] Finished trial#243 resulted in value: 162640.0. Current best value is -108830.0 with parameters: {'shiki': '三連単-tflow2', 'pattern': 'order_s', 'select_num': 11}.\n"
     ]
    },
    {
     "name": "stdout",
     "output_type": "stream",
     "text": [
      "三連単 tflow2 10 order_s 244\n",
      "profit 81630.0\n"
     ]
    },
    {
     "name": "stderr",
     "output_type": "stream",
     "text": [
      "[I 2019-06-27 16:54:22,235] Finished trial#244 resulted in value: -81630.0. Current best value is -108830.0 with parameters: {'shiki': '三連単-tflow2', 'pattern': 'order_s', 'select_num': 11}.\n"
     ]
    },
    {
     "name": "stdout",
     "output_type": "stream",
     "text": [
      "枠単 mflow 2 eq 245\n",
      "profit -6750.0\n"
     ]
    },
    {
     "name": "stderr",
     "output_type": "stream",
     "text": [
      "[I 2019-06-27 16:54:24,794] Finished trial#245 resulted in value: 6750.0. Current best value is -108830.0 with parameters: {'shiki': '三連単-tflow2', 'pattern': 'order_s', 'select_num': 11}.\n"
     ]
    },
    {
     "name": "stdout",
     "output_type": "stream",
     "text": [
      "普通馬複 form2 11 eq 246\n",
      "profit -104490.0\n"
     ]
    },
    {
     "name": "stderr",
     "output_type": "stream",
     "text": [
      "[I 2019-06-27 16:54:43,129] Finished trial#246 resulted in value: 104490.0. Current best value is -108830.0 with parameters: {'shiki': '三連単-tflow2', 'pattern': 'order_s', 'select_num': 11}.\n"
     ]
    },
    {
     "name": "stdout",
     "output_type": "stream",
     "text": [
      "普通馬複 flow 9 eq 247\n",
      "profit -74580.0\n"
     ]
    },
    {
     "name": "stderr",
     "output_type": "stream",
     "text": [
      "[I 2019-06-27 16:54:50,943] Finished trial#247 resulted in value: 74580.0. Current best value is -108830.0 with parameters: {'shiki': '三連単-tflow2', 'pattern': 'order_s', 'select_num': 11}.\n"
     ]
    },
    {
     "name": "stdout",
     "output_type": "stream",
     "text": [
      "三連単 form2t1 4 eq 248\n",
      "profit -142020.0\n"
     ]
    },
    {
     "name": "stderr",
     "output_type": "stream",
     "text": [
      "[I 2019-06-27 16:54:58,973] Finished trial#248 resulted in value: 142020.0. Current best value is -108830.0 with parameters: {'shiki': '三連単-tflow2', 'pattern': 'order_s', 'select_num': 11}.\n"
     ]
    },
    {
     "name": "stdout",
     "output_type": "stream",
     "text": [
      "枠複 box 7 eq 249\n",
      "profit -119300.0\n"
     ]
    },
    {
     "name": "stderr",
     "output_type": "stream",
     "text": [
      "[I 2019-06-27 16:55:17,941] Finished trial#249 resulted in value: 119300.0. Current best value is -108830.0 with parameters: {'shiki': '三連単-tflow2', 'pattern': 'order_s', 'select_num': 11}.\n"
     ]
    },
    {
     "name": "stdout",
     "output_type": "stream",
     "text": [
      "馬単 mbox 2 eq 250\n",
      "profit -7110.0\n"
     ]
    },
    {
     "name": "stderr",
     "output_type": "stream",
     "text": [
      "[I 2019-06-27 16:55:20,552] Finished trial#250 resulted in value: 7110.0. Current best value is -108830.0 with parameters: {'shiki': '三連単-tflow2', 'pattern': 'order_s', 'select_num': 11}.\n"
     ]
    },
    {
     "name": "stdout",
     "output_type": "stream",
     "text": [
      "三連単 tflow2 14 order_s 251\n",
      "profit 38190.0\n"
     ]
    },
    {
     "name": "stderr",
     "output_type": "stream",
     "text": [
      "[I 2019-06-27 16:55:32,042] Finished trial#251 resulted in value: -38190.0. Current best value is -108830.0 with parameters: {'shiki': '三連単-tflow2', 'pattern': 'order_s', 'select_num': 11}.\n"
     ]
    },
    {
     "name": "stdout",
     "output_type": "stream",
     "text": [
      "馬単 flow 13 order_s 252\n",
      "profit -33220.0\n"
     ]
    },
    {
     "name": "stderr",
     "output_type": "stream",
     "text": [
      "[I 2019-06-27 16:55:43,761] Finished trial#252 resulted in value: 33220.0. Current best value is -108830.0 with parameters: {'shiki': '三連単-tflow2', 'pattern': 'order_s', 'select_num': 11}.\n"
     ]
    },
    {
     "name": "stdout",
     "output_type": "stream",
     "text": [
      "ワイド box 5 eq 253\n",
      "profit -83600.0\n"
     ]
    },
    {
     "name": "stderr",
     "output_type": "stream",
     "text": [
      "[I 2019-06-27 16:55:53,573] Finished trial#253 resulted in value: 83600.0. Current best value is -108830.0 with parameters: {'shiki': '三連単-tflow2', 'pattern': 'order_s', 'select_num': 11}.\n"
     ]
    },
    {
     "name": "stdout",
     "output_type": "stream",
     "text": [
      "三連単 mflow1 3 eq 254\n",
      "profit -103560.0\n"
     ]
    },
    {
     "name": "stderr",
     "output_type": "stream",
     "text": [
      "[I 2019-06-27 16:55:59,555] Finished trial#254 resulted in value: 103560.0. Current best value is -108830.0 with parameters: {'shiki': '三連単-tflow2', 'pattern': 'order_s', 'select_num': 11}.\n"
     ]
    },
    {
     "name": "stdout",
     "output_type": "stream",
     "text": [
      "ワイド form2 11 eq 255\n",
      "profit -82750.0\n"
     ]
    },
    {
     "name": "stderr",
     "output_type": "stream",
     "text": [
      "[I 2019-06-27 16:56:17,579] Finished trial#255 resulted in value: 82750.0. Current best value is -108830.0 with parameters: {'shiki': '三連単-tflow2', 'pattern': 'order_s', 'select_num': 11}.\n"
     ]
    },
    {
     "name": "stdout",
     "output_type": "stream",
     "text": [
      "枠複 flow 8 order_o 256\n",
      "profit -65930.0\n"
     ]
    },
    {
     "name": "stderr",
     "output_type": "stream",
     "text": [
      "[I 2019-06-27 16:56:25,068] Finished trial#256 resulted in value: 65930.0. Current best value is -108830.0 with parameters: {'shiki': '三連単-tflow2', 'pattern': 'order_s', 'select_num': 11}.\n"
     ]
    },
    {
     "name": "stdout",
     "output_type": "stream",
     "text": [
      "三連単 tflow2 12 order_s 257\n",
      "profit 97600.0\n"
     ]
    },
    {
     "name": "stderr",
     "output_type": "stream",
     "text": [
      "[I 2019-06-27 16:56:35,195] Finished trial#257 resulted in value: -97600.0. Current best value is -108830.0 with parameters: {'shiki': '三連単-tflow2', 'pattern': 'order_s', 'select_num': 11}.\n"
     ]
    },
    {
     "name": "stdout",
     "output_type": "stream",
     "text": [
      "三連単 tflow2 12 order_s 258\n",
      "profit 97600.0\n"
     ]
    },
    {
     "name": "stderr",
     "output_type": "stream",
     "text": [
      "[I 2019-06-27 16:56:45,317] Finished trial#258 resulted in value: -97600.0. Current best value is -108830.0 with parameters: {'shiki': '三連単-tflow2', 'pattern': 'order_s', 'select_num': 11}.\n"
     ]
    },
    {
     "name": "stdout",
     "output_type": "stream",
     "text": [
      "三連単 tflow2 12 order_s 259\n",
      "profit 97600.0\n"
     ]
    },
    {
     "name": "stderr",
     "output_type": "stream",
     "text": [
      "[I 2019-06-27 16:56:55,579] Finished trial#259 resulted in value: -97600.0. Current best value is -108830.0 with parameters: {'shiki': '三連単-tflow2', 'pattern': 'order_s', 'select_num': 11}.\n"
     ]
    },
    {
     "name": "stdout",
     "output_type": "stream",
     "text": [
      "三連単 tflow2 12 eq 260\n",
      "profit 26850.0\n"
     ]
    },
    {
     "name": "stderr",
     "output_type": "stream",
     "text": [
      "[I 2019-06-27 16:57:05,791] Finished trial#260 resulted in value: -26850.0. Current best value is -108830.0 with parameters: {'shiki': '三連単-tflow2', 'pattern': 'order_s', 'select_num': 11}.\n"
     ]
    },
    {
     "name": "stdout",
     "output_type": "stream",
     "text": [
      "三連単 tflow2 10 order_s 261\n",
      "profit 81630.0\n"
     ]
    },
    {
     "name": "stderr",
     "output_type": "stream",
     "text": [
      "[I 2019-06-27 16:57:14,563] Finished trial#261 resulted in value: -81630.0. Current best value is -108830.0 with parameters: {'shiki': '三連単-tflow2', 'pattern': 'order_s', 'select_num': 11}.\n"
     ]
    },
    {
     "name": "stdout",
     "output_type": "stream",
     "text": [
      "三連単 tflow2 13 order_o 262\n",
      "profit 72290.0\n"
     ]
    },
    {
     "name": "stderr",
     "output_type": "stream",
     "text": [
      "[I 2019-06-27 16:57:25,497] Finished trial#262 resulted in value: -72290.0. Current best value is -108830.0 with parameters: {'shiki': '三連単-tflow2', 'pattern': 'order_s', 'select_num': 11}.\n"
     ]
    },
    {
     "name": "stdout",
     "output_type": "stream",
     "text": [
      "普通馬複 box 5 eq 263\n",
      "profit -140220.0\n"
     ]
    },
    {
     "name": "stderr",
     "output_type": "stream",
     "text": [
      "[I 2019-06-27 16:57:34,906] Finished trial#263 resulted in value: 140220.0. Current best value is -108830.0 with parameters: {'shiki': '三連単-tflow2', 'pattern': 'order_s', 'select_num': 11}.\n"
     ]
    },
    {
     "name": "stdout",
     "output_type": "stream",
     "text": [
      "三連複 box 6 eq 264\n",
      "profit -116250.0\n"
     ]
    },
    {
     "name": "stderr",
     "output_type": "stream",
     "text": [
      "[I 2019-06-27 16:57:53,293] Finished trial#264 resulted in value: 116250.0. Current best value is -108830.0 with parameters: {'shiki': '三連単-tflow2', 'pattern': 'order_s', 'select_num': 11}.\n"
     ]
    },
    {
     "name": "stdout",
     "output_type": "stream",
     "text": [
      "三連単 form2t2 12 eq 265\n",
      "profit -68600.0\n"
     ]
    },
    {
     "name": "stderr",
     "output_type": "stream",
     "text": [
      "[I 2019-06-27 16:58:10,673] Finished trial#265 resulted in value: 68600.0. Current best value is -108830.0 with parameters: {'shiki': '三連単-tflow2', 'pattern': 'order_s', 'select_num': 11}.\n"
     ]
    },
    {
     "name": "stdout",
     "output_type": "stream",
     "text": [
      "三連単 tflow2 11 order_s 266\n",
      "profit 108830.0\n"
     ]
    },
    {
     "name": "stderr",
     "output_type": "stream",
     "text": [
      "[I 2019-06-27 16:58:19,958] Finished trial#266 resulted in value: -108830.0. Current best value is -108830.0 with parameters: {'shiki': '三連単-tflow2', 'pattern': 'order_s', 'select_num': 11}.\n"
     ]
    },
    {
     "name": "stdout",
     "output_type": "stream",
     "text": [
      "三連複 flow1 8 eq 267\n",
      "profit -84790.0\n"
     ]
    },
    {
     "name": "stderr",
     "output_type": "stream",
     "text": [
      "[I 2019-06-27 16:58:39,746] Finished trial#267 resulted in value: 84790.0. Current best value is -108830.0 with parameters: {'shiki': '三連単-tflow2', 'pattern': 'order_s', 'select_num': 11}.\n"
     ]
    },
    {
     "name": "stdout",
     "output_type": "stream",
     "text": [
      "枠単 flow 4 order_s 268\n",
      "profit -16960.0\n"
     ]
    },
    {
     "name": "stderr",
     "output_type": "stream",
     "text": [
      "[I 2019-06-27 16:58:43,657] Finished trial#268 resulted in value: 16960.0. Current best value is -108830.0 with parameters: {'shiki': '三連単-tflow2', 'pattern': 'order_s', 'select_num': 11}.\n"
     ]
    },
    {
     "name": "stdout",
     "output_type": "stream",
     "text": [
      "三連複 flow2 9 order_s 269\n",
      "profit -18470.0\n"
     ]
    },
    {
     "name": "stderr",
     "output_type": "stream",
     "text": [
      "[I 2019-06-27 16:58:51,258] Finished trial#269 resulted in value: 18470.0. Current best value is -108830.0 with parameters: {'shiki': '三連単-tflow2', 'pattern': 'order_s', 'select_num': 11}.\n"
     ]
    },
    {
     "name": "stdout",
     "output_type": "stream",
     "text": [
      "馬単 mflow 11 eq 270\n",
      "profit -49090.0\n"
     ]
    },
    {
     "name": "stderr",
     "output_type": "stream",
     "text": [
      "[I 2019-06-27 16:59:09,638] Finished trial#270 resulted in value: 49090.0. Current best value is -108830.0 with parameters: {'shiki': '三連単-tflow2', 'pattern': 'order_s', 'select_num': 11}.\n"
     ]
    },
    {
     "name": "stdout",
     "output_type": "stream",
     "text": [
      "三連複 form22 11 eq 271\n",
      "profit -92430.0\n"
     ]
    },
    {
     "name": "stderr",
     "output_type": "stream",
     "text": [
      "[I 2019-06-27 16:59:25,105] Finished trial#271 resulted in value: 92430.0. Current best value is -108830.0 with parameters: {'shiki': '三連単-tflow2', 'pattern': 'order_s', 'select_num': 11}.\n"
     ]
    },
    {
     "name": "stdout",
     "output_type": "stream",
     "text": [
      "三連単 tflow2 10 eq 272\n",
      "profit 71430.0\n"
     ]
    },
    {
     "name": "stderr",
     "output_type": "stream",
     "text": [
      "[I 2019-06-27 16:59:32,672] Finished trial#272 resulted in value: -71430.0. Current best value is -108830.0 with parameters: {'shiki': '三連単-tflow2', 'pattern': 'order_s', 'select_num': 11}.\n"
     ]
    },
    {
     "name": "stdout",
     "output_type": "stream",
     "text": [
      "ワイド flow 10 order_s 273\n",
      "profit -56930.0\n"
     ]
    },
    {
     "name": "stderr",
     "output_type": "stream",
     "text": [
      "[I 2019-06-27 16:59:41,826] Finished trial#273 resulted in value: 56930.0. Current best value is -108830.0 with parameters: {'shiki': '三連単-tflow2', 'pattern': 'order_s', 'select_num': 11}.\n"
     ]
    },
    {
     "name": "stdout",
     "output_type": "stream",
     "text": [
      "複勝 none 15 order_o 274\n",
      "profit -67910.0\n"
     ]
    },
    {
     "name": "stderr",
     "output_type": "stream",
     "text": [
      "[I 2019-06-27 16:59:56,108] Finished trial#274 resulted in value: 67910.0. Current best value is -108830.0 with parameters: {'shiki': '三連単-tflow2', 'pattern': 'order_s', 'select_num': 11}.\n"
     ]
    },
    {
     "name": "stdout",
     "output_type": "stream",
     "text": [
      "三連単 tflow2 13 order_s 275\n",
      "profit 82420.0\n"
     ]
    },
    {
     "name": "stderr",
     "output_type": "stream",
     "text": [
      "[I 2019-06-27 17:00:07,086] Finished trial#275 resulted in value: -82420.0. Current best value is -108830.0 with parameters: {'shiki': '三連単-tflow2', 'pattern': 'order_s', 'select_num': 11}.\n"
     ]
    },
    {
     "name": "stdout",
     "output_type": "stream",
     "text": [
      "三連複 form21 6 eq 276\n",
      "profit -109530.0\n"
     ]
    },
    {
     "name": "stderr",
     "output_type": "stream",
     "text": [
      "[I 2019-06-27 17:00:21,975] Finished trial#276 resulted in value: 109530.0. Current best value is -108830.0 with parameters: {'shiki': '三連単-tflow2', 'pattern': 'order_s', 'select_num': 11}.\n"
     ]
    },
    {
     "name": "stdout",
     "output_type": "stream",
     "text": [
      "三連単 mflow2 3 eq 277\n",
      "profit -103560.0\n"
     ]
    },
    {
     "name": "stderr",
     "output_type": "stream",
     "text": [
      "[I 2019-06-27 17:00:28,336] Finished trial#277 resulted in value: 103560.0. Current best value is -108830.0 with parameters: {'shiki': '三連単-tflow2', 'pattern': 'order_s', 'select_num': 11}.\n"
     ]
    },
    {
     "name": "stdout",
     "output_type": "stream",
     "text": [
      "三連単 mbox 3 eq 278\n",
      "profit -103560.0\n"
     ]
    },
    {
     "name": "stderr",
     "output_type": "stream",
     "text": [
      "[I 2019-06-27 17:00:34,581] Finished trial#278 resulted in value: 103560.0. Current best value is -108830.0 with parameters: {'shiki': '三連単-tflow2', 'pattern': 'order_s', 'select_num': 11}.\n"
     ]
    },
    {
     "name": "stdout",
     "output_type": "stream",
     "text": [
      "枠単 mbox 2 eq 279\n",
      "profit -6750.0\n"
     ]
    },
    {
     "name": "stderr",
     "output_type": "stream",
     "text": [
      "[I 2019-06-27 17:00:37,337] Finished trial#279 resulted in value: 6750.0. Current best value is -108830.0 with parameters: {'shiki': '三連単-tflow2', 'pattern': 'order_s', 'select_num': 11}.\n"
     ]
    },
    {
     "name": "stdout",
     "output_type": "stream",
     "text": [
      "三連単 tflow2 14 order_s 280\n",
      "profit 38190.0\n"
     ]
    },
    {
     "name": "stderr",
     "output_type": "stream",
     "text": [
      "[I 2019-06-27 17:00:49,198] Finished trial#280 resulted in value: -38190.0. Current best value is -108830.0 with parameters: {'shiki': '三連単-tflow2', 'pattern': 'order_s', 'select_num': 11}.\n"
     ]
    },
    {
     "name": "stdout",
     "output_type": "stream",
     "text": [
      "単勝 none 9 order_s 281\n",
      "profit -90060.0\n"
     ]
    },
    {
     "name": "stderr",
     "output_type": "stream",
     "text": [
      "[I 2019-06-27 17:00:58,703] Finished trial#281 resulted in value: 90060.0. Current best value is -108830.0 with parameters: {'shiki': '三連単-tflow2', 'pattern': 'order_s', 'select_num': 11}.\n"
     ]
    },
    {
     "name": "stdout",
     "output_type": "stream",
     "text": [
      "枠複 form2 8 eq 282\n",
      "profit -90400.0\n"
     ]
    },
    {
     "name": "stderr",
     "output_type": "stream",
     "text": [
      "[I 2019-06-27 17:01:12,054] Finished trial#282 resulted in value: 90400.0. Current best value is -108830.0 with parameters: {'shiki': '三連単-tflow2', 'pattern': 'order_s', 'select_num': 11}.\n"
     ]
    },
    {
     "name": "stdout",
     "output_type": "stream",
     "text": [
      "枠単 mflow 7 eq 283\n",
      "profit -70510.0\n"
     ]
    },
    {
     "name": "stderr",
     "output_type": "stream",
     "text": [
      "[I 2019-06-27 17:01:23,372] Finished trial#283 resulted in value: 70510.0. Current best value is -108830.0 with parameters: {'shiki': '三連単-tflow2', 'pattern': 'order_s', 'select_num': 11}.\n"
     ]
    },
    {
     "name": "stdout",
     "output_type": "stream",
     "text": [
      "三連単 form2t1 4 eq 284\n",
      "profit -142020.0\n"
     ]
    },
    {
     "name": "stderr",
     "output_type": "stream",
     "text": [
      "[I 2019-06-27 17:01:31,289] Finished trial#284 resulted in value: 142020.0. Current best value is -108830.0 with parameters: {'shiki': '三連単-tflow2', 'pattern': 'order_s', 'select_num': 11}.\n"
     ]
    },
    {
     "name": "stdout",
     "output_type": "stream",
     "text": [
      "三連単 tflow1 5 eq 285\n",
      "profit -139070.0\n"
     ]
    },
    {
     "name": "stderr",
     "output_type": "stream",
     "text": [
      "[I 2019-06-27 17:01:42,794] Finished trial#285 resulted in value: 139070.0. Current best value is -108830.0 with parameters: {'shiki': '三連単-tflow2', 'pattern': 'order_s', 'select_num': 11}.\n"
     ]
    },
    {
     "name": "stdout",
     "output_type": "stream",
     "text": [
      "三連単 tflow2 12 order_s 286\n",
      "profit 97600.0\n"
     ]
    },
    {
     "name": "stderr",
     "output_type": "stream",
     "text": [
      "[I 2019-06-27 17:01:52,999] Finished trial#286 resulted in value: -97600.0. Current best value is -108830.0 with parameters: {'shiki': '三連単-tflow2', 'pattern': 'order_s', 'select_num': 11}.\n"
     ]
    },
    {
     "name": "stdout",
     "output_type": "stream",
     "text": [
      "普通馬複 form2 11 eq 287\n",
      "profit -104490.0\n"
     ]
    },
    {
     "name": "stderr",
     "output_type": "stream",
     "text": [
      "[I 2019-06-27 17:02:11,505] Finished trial#287 resulted in value: 104490.0. Current best value is -108830.0 with parameters: {'shiki': '三連単-tflow2', 'pattern': 'order_s', 'select_num': 11}.\n"
     ]
    },
    {
     "name": "stdout",
     "output_type": "stream",
     "text": [
      "枠複 box 7 eq 288\n",
      "profit -119300.0\n"
     ]
    },
    {
     "name": "stderr",
     "output_type": "stream",
     "text": [
      "[I 2019-06-27 17:02:31,727] Finished trial#288 resulted in value: 119300.0. Current best value is -108830.0 with parameters: {'shiki': '三連単-tflow2', 'pattern': 'order_s', 'select_num': 11}.\n"
     ]
    },
    {
     "name": "stdout",
     "output_type": "stream",
     "text": [
      "馬単 flow 10 eq 289\n",
      "profit 30520.0\n"
     ]
    },
    {
     "name": "stderr",
     "output_type": "stream",
     "text": [
      "[I 2019-06-27 17:02:40,580] Finished trial#289 resulted in value: -30520.0. Current best value is -108830.0 with parameters: {'shiki': '三連単-tflow2', 'pattern': 'order_s', 'select_num': 11}.\n"
     ]
    },
    {
     "name": "stdout",
     "output_type": "stream",
     "text": [
      "普通馬複 flow 10 order_o 290\n",
      "profit -83760.0\n"
     ]
    },
    {
     "name": "stderr",
     "output_type": "stream",
     "text": [
      "[I 2019-06-27 17:02:49,858] Finished trial#290 resulted in value: 83760.0. Current best value is -108830.0 with parameters: {'shiki': '三連単-tflow2', 'pattern': 'order_s', 'select_num': 11}.\n"
     ]
    },
    {
     "name": "stdout",
     "output_type": "stream",
     "text": [
      "三連単 tflow2 12 order_s 291\n",
      "profit 97600.0\n"
     ]
    },
    {
     "name": "stderr",
     "output_type": "stream",
     "text": [
      "[I 2019-06-27 17:03:00,039] Finished trial#291 resulted in value: -97600.0. Current best value is -108830.0 with parameters: {'shiki': '三連単-tflow2', 'pattern': 'order_s', 'select_num': 11}.\n"
     ]
    },
    {
     "name": "stdout",
     "output_type": "stream",
     "text": [
      "ワイド box 2 eq 292\n",
      "profit -51240.0\n"
     ]
    },
    {
     "name": "stderr",
     "output_type": "stream",
     "text": [
      "[I 2019-06-27 17:03:01,852] Finished trial#292 resulted in value: 51240.0. Current best value is -108830.0 with parameters: {'shiki': '三連単-tflow2', 'pattern': 'order_s', 'select_num': 11}.\n"
     ]
    },
    {
     "name": "stdout",
     "output_type": "stream",
     "text": [
      "馬単 mbox 4 eq 293\n",
      "profit -103690.0\n"
     ]
    },
    {
     "name": "stderr",
     "output_type": "stream",
     "text": [
      "[I 2019-06-27 17:03:13,435] Finished trial#293 resulted in value: 103690.0. Current best value is -108830.0 with parameters: {'shiki': '三連単-tflow2', 'pattern': 'order_s', 'select_num': 11}.\n"
     ]
    },
    {
     "name": "stdout",
     "output_type": "stream",
     "text": [
      "三連単 mflow1 3 eq 294\n",
      "profit -103560.0\n"
     ]
    },
    {
     "name": "stderr",
     "output_type": "stream",
     "text": [
      "[I 2019-06-27 17:03:19,466] Finished trial#294 resulted in value: 103560.0. Current best value is -108830.0 with parameters: {'shiki': '三連単-tflow2', 'pattern': 'order_s', 'select_num': 11}.\n"
     ]
    },
    {
     "name": "stdout",
     "output_type": "stream",
     "text": [
      "ワイド form2 11 eq 295\n",
      "profit -82750.0\n"
     ]
    },
    {
     "name": "stderr",
     "output_type": "stream",
     "text": [
      "[I 2019-06-27 17:03:37,753] Finished trial#295 resulted in value: 82750.0. Current best value is -108830.0 with parameters: {'shiki': '三連単-tflow2', 'pattern': 'order_s', 'select_num': 11}.\n"
     ]
    },
    {
     "name": "stdout",
     "output_type": "stream",
     "text": [
      "三連単 tflow2 13 order_s 296\n",
      "profit 82420.0\n"
     ]
    },
    {
     "name": "stderr",
     "output_type": "stream",
     "text": [
      "[I 2019-06-27 17:03:49,288] Finished trial#296 resulted in value: -82420.0. Current best value is -108830.0 with parameters: {'shiki': '三連単-tflow2', 'pattern': 'order_s', 'select_num': 11}.\n"
     ]
    },
    {
     "name": "stdout",
     "output_type": "stream",
     "text": [
      "枠複 flow 8 order_s 297\n",
      "profit -66520.0\n"
     ]
    },
    {
     "name": "stderr",
     "output_type": "stream",
     "text": [
      "[I 2019-06-27 17:03:56,877] Finished trial#297 resulted in value: 66520.0. Current best value is -108830.0 with parameters: {'shiki': '三連単-tflow2', 'pattern': 'order_s', 'select_num': 11}.\n"
     ]
    },
    {
     "name": "stdout",
     "output_type": "stream",
     "text": [
      "枠単 flow 6 order_s 298\n",
      "profit -55780.0\n"
     ]
    },
    {
     "name": "stderr",
     "output_type": "stream",
     "text": [
      "[I 2019-06-27 17:04:02,698] Finished trial#298 resulted in value: 55780.0. Current best value is -108830.0 with parameters: {'shiki': '三連単-tflow2', 'pattern': 'order_s', 'select_num': 11}.\n"
     ]
    },
    {
     "name": "stdout",
     "output_type": "stream",
     "text": [
      "三連複 box 5 eq 299\n",
      "profit -80280.0\n"
     ]
    },
    {
     "name": "stderr",
     "output_type": "stream",
     "text": [
      "[I 2019-06-27 17:04:12,303] Finished trial#299 resulted in value: 80280.0. Current best value is -108830.0 with parameters: {'shiki': '三連単-tflow2', 'pattern': 'order_s', 'select_num': 11}.\n"
     ]
    }
   ],
   "source": [
    "study = optuna.create_study()\n",
    "study.optimize(objective, n_trials=300)"
   ]
  },
  {
   "cell_type": "code",
   "execution_count": 79,
   "metadata": {},
   "outputs": [
    {
     "data": {
      "text/plain": [
       "{'shiki': '三連単-tflow2', 'pattern': 'order_s', 'select_num': 11}"
      ]
     },
     "execution_count": 79,
     "metadata": {},
     "output_type": "execute_result"
    }
   ],
   "source": [
    "study.best_params"
   ]
  },
  {
   "cell_type": "code",
   "execution_count": 80,
   "metadata": {},
   "outputs": [
    {
     "data": {
      "text/plain": [
       "16"
      ]
     },
     "execution_count": 80,
     "metadata": {},
     "output_type": "execute_result"
    }
   ],
   "source": [
    "UMAKAZU"
   ]
  },
  {
   "cell_type": "markdown",
   "metadata": {},
   "source": [
    "# 結果\n",
    "\n",
    "### 6頭\n",
    "\n",
    "```\n",
    "{'shiki': '三連単-tflow2', 'pattern': 'eq', 'select_num': 4}\n",
    "```\n",
    "対象レース: 6\n",
    "\n",
    "### 7頭\n",
    "\n",
    "+190円\n",
    "\n",
    "```\n",
    "{'shiki': '馬単-mbox', 'select_num': 2}\n",
    "```\n",
    "対象レース: 16\n",
    "\n",
    "### 8頭\n",
    "\n",
    "-300円\n",
    "\n",
    "```\n",
    "{'shiki': '単勝-none', 'pattern': 'eq', 'select_num': 7}\n",
    "```\n",
    "対象レース: 32\n",
    "\n",
    "### 9頭\n",
    "\n",
    "+11,970円\n",
    "\n",
    "```\n",
    "{'shiki': '三連複-flow1', 'select_num': 3}\n",
    "```\n",
    "対象レース: 69\n",
    "\n",
    "### 10頭\n",
    "\n",
    "+35,980円\n",
    "\n",
    "```\n",
    "{'shiki': '三連単-form2t2', 'select_num': 10}\n",
    "```\n",
    "対象レース: 99\n",
    "\n",
    "### 11頭\n",
    "\n",
    "+307,560円\n",
    "\n",
    "```\n",
    "{'shiki': '三連単-mbox', 'select_num': 3}\n",
    "```\n",
    "\n",
    "対象レース: 198\n",
    "\n",
    "### 12頭\n",
    "\n",
    "+26,910円\n",
    "\n",
    "```\n",
    "{'shiki': '三連単-form2t2', 'select_num': 8}\n",
    "```\n",
    "\n",
    "対象レース: 503\n",
    "\n",
    "### 13頭\n",
    "\n",
    "+170,910円\n",
    "\n",
    "```\n",
    "{'shiki': '馬単-flow', 'pattern': 'eq', 'select_num': 11}\n",
    "```\n",
    "\n",
    "対象レース: 85\n",
    "\n",
    "### 14頭\n",
    "\n",
    "+218,930円\n",
    "\n",
    "```\n",
    "{'shiki': '三連複-form22', 'select_num': 5}\n",
    "```\n",
    "\n",
    "対象レース: 202\n",
    "\n",
    "### 15頭\n",
    "\n",
    "+53,240円\n",
    "\n",
    "```\n",
    "{'shiki': '馬単-flow', 'pattern': 'eq', 'select_num': 11}\n",
    "```\n",
    "対象レース: 70\n",
    "\n",
    "\n",
    "### 16頭\n",
    "\n",
    "+108,830円\n",
    "\n",
    "```\n",
    "{'shiki': '三連単-tflow2', 'pattern': 'order_s', 'select_num': 11}\n",
    "```\n",
    "対象レース: 147\n"
   ]
  },
  {
   "cell_type": "code",
   "execution_count": null,
   "metadata": {},
   "outputs": [],
   "source": []
  }
 ],
 "metadata": {
  "kernelspec": {
   "display_name": "Python 3",
   "language": "python",
   "name": "python3"
  },
  "language_info": {
   "codemirror_mode": {
    "name": "ipython",
    "version": 3
   },
   "file_extension": ".py",
   "mimetype": "text/x-python",
   "name": "python",
   "nbconvert_exporter": "python",
   "pygments_lexer": "ipython3",
   "version": "3.7.3"
  }
 },
 "nbformat": 4,
 "nbformat_minor": 2
}
